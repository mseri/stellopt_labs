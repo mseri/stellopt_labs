{
 "cells": [
  {
   "cell_type": "markdown",
   "metadata": {},
   "source": [
    "# 03 Scan surface location optimizing the quasi-symmetry\n",
    "\n",
    "Prepared by: Caoxiang Zhu for Group 3 at the Summer School on Stellarator Optimization 2020\n",
    "\n",
    "## Introduction\n",
    "\n",
    "STELLOPT can optimize the value of quasi-symmetry on an arbitrary winding surface.\n",
    "One a [VMEC](https://princetonuniversity.github.io/STELLOPT/VMEC) equilibrium is calculated, STELLOPT will call [BOOZ_XFORM](https://princetonuniversity.github.io/STELLOPT/BOOZ_XFORM) to convert VMEC coordinates into Boozer coordinates.\n",
    "Afterward, Fourier decomposition of $|\\vec{B}|$ in Boozer coordinates will be performed,\n",
    "$$\n",
    "|\\vec{B}| = \\sum_{n,m} B_{mn} \\cos(m\\theta - n\\zeta).\n",
    "$$\n",
    "Here, stellarator symmetry is assumed and only even terms are used.\n",
    "To improve quasi-symmetry, STELLOPT will try to reduce the non-symmetric terms,\n",
    "$$\n",
    "f_{QS} = \\sum_{n/m \\neq N/M} {B_{mn}}^2 ,\n",
    "$$\n",
    "where $N, M$ are the symmetry indicator.\n",
    "\n",
    "There are three types of quasi-symmetry: \n",
    "  - Quasi-axisymmetry (QA): $N=0$. The magnetic field strength is axisymmetric (toroidally).\n",
    "  - Quasi-poloidal symmetry (QP): $M=0$. The magnetic field strength is poloidally symmetric.\n",
    "  - Quasi-helical symmetry (QH): $N, M \\neq 0$. The magnetic field strength is helically symmetric.\n",
    " \n",
    "In the STELLOPT input namelist [optim](https://princetonuniversity.github.io/STELLOPT/STELLOPT%20Input%20Namelist), we can control the target of quasi-symmetry.\n",
    "For example, the following snippet means we want to optimize QA on the VMEC flux surface labeled from 2 to 49 over 49 surfaces (index 1 stands for the magnetic axis).\n",
    "```\n",
    "!------------------------------------------------------------------------\n",
    "!       Boozer Coordinate Helicity\n",
    "!         Note that helicity targeting is by surface.  Axis (01) is ignored.\n",
    "!         (X,0): Quasi-Axisymetry\n",
    "!         (0,X): Quasi-Poloidal Symmetry\n",
    "!         (L,K): Quasi-Helical Symmetry (m *K - n*L)\n",
    "!------------------------------------------------------------------------\n",
    "  HELICITY = (1,0)\n",
    "  TARGET_HELICITY(2:49) = 48*0.0  SIGMA_HELICITY(2:49) = 48*1.0\n",
    "```"
   ]
  },
  {
   "cell_type": "markdown",
   "metadata": {},
   "source": [
    "## Varying the target surface to optimize quasi-symmetry\n",
    "\n",
    "There is a freedom in choosing the target surface on which the quasi-symmetry is improved.\n",
    "Historically, multiple surfaces were used from the core to the edge.\n",
    "[Henneberg et al.](https://iopscience.iop.org/article/10.1088/1361-6587/ab5add) reported it that varying the position of the target flux surface will have different results. \n",
    "Here we are going to briefly explore the effect of the target surface position on the performance of quasi-symmetry.\n",
    "\n",
    "We will start with an optimization that tries to optimize all the flux surfaces in the equilibrium, then scan optimizing the single surface at s=0.25, 0.50, 0.75, 1.00 (s is the normalized toroidal flux)."
   ]
  },
  {
   "cell_type": "markdown",
   "metadata": {},
   "source": [
    "## Optimize all the surfaces\n",
    "\n",
    "### Check the input\n",
    "\n",
    "You can find the input file in the `./all` folder.\n",
    "It has a `input.all` file used for STELLOPT.\n",
    "You can open it using your preferred editor, like `vi input.all`, `emacs input.all`, `more input.all`, etc.\n",
    "\n",
    "Question: Can you explain what the input file is doing? What are the free parameters? What are the targets? Which optimization algorithm is it using? ..."
   ]
  },
  {
   "cell_type": "markdown",
   "metadata": {},
   "source": [
    "### Run STELLOPT\n",
    "\n",
    "Do the following in the terminal\n",
    "\n",
    "```shell\n",
    "mpiexec -n 8 xstelloptv2 input.all\n",
    "```\n",
    "\n",
    "There are in total 24 CPUs for each group.\n",
    "You can discuss with your group members and determine how many CPUs you want to use for each job."
   ]
  },
  {
   "cell_type": "markdown",
   "metadata": {},
   "source": [
    "### Run BOOZ_XFORM for post-processing\n",
    "\n",
    "You can now run BOOZ_XFORM to calculate the Fourier coefficients of $|\\vec{B}|$ in Boozer coordinates.\n",
    "The input file is `./inbooz.reset_file` and you can check the details of the input file.\n",
    "We are going to convert the VMEC output `wout_reset_file.nc`, which stands for the most recent VMEC calculation during the iterations.\n",
    "```\n",
    "xbooz_xform ../inbooz.reset_file\n",
    "```"
   ]
  },
  {
   "cell_type": "markdown",
   "metadata": {},
   "source": [
    "### Check STELLOPT results\n",
    "\n",
    "Now we can check the STELLOPT results.\n",
    "The main output is `stellopt.all` file in which STELLOPT writes the status of each iteration.\n",
    "We can read this file by using the python code [`coilpy.STELLout` ](https://github.com/zhucaoxiang/CoilPy/blob/master/coilpy/stellopt.py#L57), or something else you like."
   ]
  },
  {
   "cell_type": "code",
   "execution_count": null,
   "metadata": {},
   "outputs": [],
   "source": [
    "# Update to the latest version of coilpy in the current Jupyter kernel\n",
    "import sys\n",
    "!{sys.executable} -m pip install -U coilpy"
   ]
  },
  {
   "cell_type": "code",
   "execution_count": 1,
   "metadata": {
    "ExecuteTime": {
     "end_time": "2020-08-15T18:01:28.291372Z",
     "start_time": "2020-08-15T18:01:27.141104Z"
    },
    "run_control": {
     "marked": true
    }
   },
   "outputs": [],
   "source": [
    "# import required packages\n",
    "import matplotlib.pyplot as plt\n",
    "import numpy as np\n",
    "from coilpy import STELLout"
   ]
  },
  {
   "cell_type": "code",
   "execution_count": null,
   "metadata": {},
   "outputs": [],
   "source": [
    "# read the ooutput\n",
    "stell_all = STELLout('stellopt.all')"
   ]
  },
  {
   "cell_type": "code",
   "execution_count": null,
   "metadata": {},
   "outputs": [],
   "source": [
    "# plot the convergence\n",
    "stell_all.plot()"
   ]
  },
  {
   "cell_type": "code",
   "execution_count": null,
   "metadata": {},
   "outputs": [],
   "source": [
    "# plot the evolution of the QA value\n",
    "f, ax = plt.subplots()\n",
    "for i in range(len(stell_all['ITER'])):\n",
    "    stell_all.plot_helicity(it=i, ax=ax, label='iter={:03d}'.format(stell_all['ITER'][i]))"
   ]
  },
  {
   "cell_type": "markdown",
   "metadata": {
    "ExecuteTime": {
     "end_time": "2020-08-15T02:49:45.221336Z",
     "start_time": "2020-08-15T02:49:45.120054Z"
    }
   },
   "source": [
    "### Check the VMEC equilibrium\n",
    "\n",
    "For each successiful iteration, STELLOPT will save the VMEC output (and the results from other codes as well).\n",
    "You can check the status of VMEC equilibrium at each iteration.\n",
    "```\n",
    "ls -al wout_*\n",
    "```"
   ]
  },
  {
   "cell_type": "code",
   "execution_count": null,
   "metadata": {},
   "outputs": [],
   "source": [
    "# Read VMEC output file\n",
    "from coilpy import VMECout\n",
    "init = VMECout('wout_full.00000.nc')"
   ]
  },
  {
   "cell_type": "code",
   "execution_count": null,
   "metadata": {},
   "outputs": [],
   "source": [
    "# Check the flux surface shape\n",
    "init.plot('LPK')"
   ]
  },
  {
   "cell_type": "code",
   "execution_count": null,
   "metadata": {},
   "outputs": [],
   "source": [
    "# Check iota profile\n",
    "init.plot('Pressure')"
   ]
  },
  {
   "cell_type": "code",
   "execution_count": null,
   "metadata": {},
   "outputs": [],
   "source": [
    "# Check Pressure profile\n",
    "init.plot('Pressure')"
   ]
  },
  {
   "cell_type": "code",
   "execution_count": null,
   "metadata": {},
   "outputs": [],
   "source": [
    "# Read the last equilibrium\n",
    "final = VMECout('wout_full.reset_file.nc')"
   ]
  },
  {
   "cell_type": "code",
   "execution_count": null,
   "metadata": {},
   "outputs": [],
   "source": [
    "# Compare the shape of flux surfaces\n",
    "plt.figure()\n",
    "init.surface[-1].plot(zeta=0, color='b', linestyle='--')\n",
    "init.surface[-1].plot(zeta=np.pi/3, color='b', linestyle='--')\n",
    "final.surface[-1].plot(zeta=0, color='r', linestyle='-')\n",
    "final.surface[-1].plot(zeta=np.pi/3, color='r', linestyle='-')"
   ]
  },
  {
   "cell_type": "markdown",
   "metadata": {},
   "source": [
    "### Check BOOZ_XFORM results\n",
    "\n",
    "We can also check the BOOZ_XFORM results in the file `boozmn.reset_file.nc`."
   ]
  },
  {
   "cell_type": "code",
   "execution_count": null,
   "metadata": {},
   "outputs": [],
   "source": [
    "# read the output\n",
    "from coilpy import BOOZ_XFORM\n",
    "booz = BOOZ_XFORM('boozmn_reset_file.nc')"
   ]
  },
  {
   "cell_type": "code",
   "execution_count": null,
   "metadata": {},
   "outputs": [],
   "source": [
    "# plot non-axisymmetric terms\n",
    "booz.plot()"
   ]
  },
  {
   "cell_type": "code",
   "execution_count": null,
   "metadata": {},
   "outputs": [],
   "source": [
    "# plot |B| contour on one surface\n",
    "booz.plot2d(ns=24)"
   ]
  },
  {
   "cell_type": "markdown",
   "metadata": {},
   "source": [
    "Now please run the other four cases and compare the optimization results."
   ]
  }
 ],
 "metadata": {
  "kernelspec": {
   "display_name": "Python 3",
   "language": "python",
   "name": "python3"
  },
  "toc": {
   "base_numbering": 1,
   "nav_menu": {},
   "number_sections": true,
   "sideBar": true,
   "skip_h1_title": false,
   "title_cell": "Table of Contents",
   "title_sidebar": "Contents",
   "toc_cell": false,
   "toc_position": {},
   "toc_section_display": true,
   "toc_window_display": false
  },
  "varInspector": {
   "cols": {
    "lenName": 16,
    "lenType": 16,
    "lenVar": 40
   },
   "kernels_config": {
    "python": {
     "delete_cmd_postfix": "",
     "delete_cmd_prefix": "del ",
     "library": "var_list.py",
     "varRefreshCmd": "print(var_dic_list())"
    },
    "r": {
     "delete_cmd_postfix": ") ",
     "delete_cmd_prefix": "rm(",
     "library": "var_list.r",
     "varRefreshCmd": "cat(var_dic_list()) "
    }
   },
   "types_to_exclude": [
    "module",
    "function",
    "builtin_function_or_method",
    "instance",
    "_Feature"
   ],
   "window_display": false
  }
 },
 "nbformat": 4,
 "nbformat_minor": 2
}
