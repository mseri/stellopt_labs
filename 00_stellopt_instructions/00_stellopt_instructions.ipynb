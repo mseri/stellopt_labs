{
 "cells": [
  {
   "cell_type": "markdown",
   "metadata": {},
   "source": [
    "# STELLOPT hands-on instruction\n",
    "\n",
    "STELLOPT is written in Fortran, a historic language commonly used in scientific computing.\n",
    "Unlike Python, you need to compile the code first and then execute it.\n",
    "The source code of STELLOPT and other distributed parts can be found at https://github.com/PrincetonUniversity/STELLOPT.\n",
    "\n",
    "For convenience, we have installed STELLOPT and related software on the remote server.\n",
    "You can directly use the executable by typing `xstelloptv2` etc.\n",
    "STELLOPT uses the message passing interface (MPI) to accelerate the computation.\n",
    "You can specify the number of CPUs by `mpiexec -n 4 xstelloptv2`.\n",
    "\n",
    "More detailed documentation can be found on the wiki pages for STELLOPT (https://princetonuniversity.github.io/STELLOPT/).\n",
    "Although not required for this tutorial, you can learn more about\n",
    "  - Fortran: [Beginner Fortran 90 tutorial](https://people.ucsc.edu/~dlee79/2019/fall/am129_209/_downloads/19b82f919ae387db3090603199f2bd45/section1.pdf)\n",
    "  - Linux: [Introduction to Linux for HPC](https://portal.tacc.utexas.edu/c/document_library/get_file?uuid=a0c33bf1-b2a4-48b4-a23d-fc8a79c887ec&groupId=13601)\n",
    "  - MPI: [MPI turtorial](https://mpitutorial.com/tutorials/)\n",
    "  \n",
    "In this instruction, we are going to use my personal python package [coilpy](https://github.com/zhucaoxiang/CoilPy) for post-processing. There are two more comprehensive packages using GUI that are publicly available, [matlabVMEC](https://github.com/lazersos/matlabVMEC), [pySTEL](https://github.com/PrincetonUniversity/STELLOPT/tree/develop/pySTEL)."
   ]
  },
  {
   "cell_type": "markdown",
   "metadata": {
    "ExecuteTime": {
     "end_time": "2020-08-19T21:11:19.031100Z",
     "start_time": "2020-08-19T21:11:19.021553Z"
    }
   },
   "source": [
    "# VMEC "
   ]
  },
  {
   "cell_type": "markdown",
   "metadata": {},
   "source": [
    "[VMEC](https://princetonuniversity.github.io/STELLOPT/VMEC) uses a variational method to find the minimum of energy functional.\n",
    "As an equilibrium calculation code, VMEC takes three essential inputs:\n",
    "  1. plasma boundary \n",
    "  2. pressure profile\n",
    "  3. rotational transform or toroidal current density profile\n",
    "\n",
    "Like most Fortran codes, VMEC uses an input namelist to read these information (as well as others)."
   ]
  },
  {
   "cell_type": "markdown",
   "metadata": {},
   "source": [
    "## VMEC input namelist\n",
    "Let's open an example of VMEC input file `input.QAS`. VMEC will read all the variables in the namelist `INDATA`."
   ]
  },
  {
   "cell_type": "code",
   "execution_count": null,
   "metadata": {},
   "outputs": [],
   "source": [
    "less input.QAS"
   ]
  },
  {
   "cell_type": "markdown",
   "metadata": {},
   "source": [
    "### Plasma boundary\n",
    "VMEC uses Fourier series to represent the plasma boundary in cylinder coordinates $(R, \\phi, Z)$,\n",
    "$$ R = \\sum R_{mn} \\cos(m \\theta -nN\\phi) $$\n",
    "$$ Z = \\sum Z_{mn} \\sin(m \\theta -nN\\phi) $$\n",
    "Here, we assume that the surface has the so-called \"_stellarator symmetry_\", i.e. $R(-\\theta, -\\phi) = R(\\theta, \\phi)$ and $Z(-\\theta, -\\phi) = -Z(\\theta, \\phi)$. \n",
    "$N>0$ is the number of field periods. \n",
    "\n",
    "The related variables in the input file are\n",
    "\n",
    "| Variable | Type | Size | Description |\n",
    "|---|---|---|---|\n",
    "| nfp | integer | 1 | Number of toroidal field periods | \n",
    "| lasym | logical | 1 | Non-stellarator symmetric configuration (False) | \n",
    "| mpol | integer | 1 | Poloidal Mode Number (m) | \n",
    "| ntor | integer | 1 | Toroidal Mode Number (n) | \n",
    "| rbc | real(12,100) | -61:61,0:60 | Boundary cosine coefficients for $R= \\cos(m\\theta-n\\zeta)$ | \n",
    "| rbs | real(12,100) | -61:61,0:60 | Boundary sine coefficients for R | \n",
    "| zbc | real(12,100) | -61:61,0:60 | Boundary cosine coefficients for Z | \n",
    "| zbs | real(12,100) | -61:61,0:60 | Boundary sine coefficients for Z|"
   ]
  },
  {
   "cell_type": "code",
   "execution_count": null,
   "metadata": {},
   "outputs": [],
   "source": [
    "# plot the boundary shape\n",
    "import matplotlib.pyplot as plt\n",
    "import numpy as np\n",
    "from coilpy import FourSurf\n",
    "qas = FourSurf.read_vmec_input('input.QAS')\n",
    "qas.plot(zeta=0, label=r'$\\phi=0$')\n",
    "qas.plot(zeta=np.pi/6, label=r'$\\phi=\\pi/6$')\n",
    "qas.plot(zeta=np.pi/3, label=r'$\\phi=\\pi/3$')\n",
    "plt.legend()"
   ]
  },
  {
   "cell_type": "code",
   "execution_count": null,
   "metadata": {},
   "outputs": [],
   "source": [
    "# plot it as 3D surfa\n",
    "qas.plot3d();"
   ]
  },
  {
   "cell_type": "code",
   "execution_count": null,
   "metadata": {},
   "outputs": [],
   "source": [
    "# adjust the shape\n",
    "print(qas.xn[0], qas.xm[0], qas.rbc[0])\n",
    "qas.plot(zeta=0, label=r'$r_{00} = 1.41$')\n",
    "qas.rbc[0] = 1.6\n",
    "qas.plot(zeta=0, label=r'$r_{00} = 1.6$')\n",
    "plt.legend()"
   ]
  },
  {
   "cell_type": "markdown",
   "metadata": {},
   "source": [
    "### Pressure profile\n",
    "The pressure profile in VMEC is specified as a function of radial flux space coordinates (s).\n",
    "Where for the default case is the normalized toroidal flux (normalized to PHIEDGE). \n",
    "The AM parameter determines the polynomial coefficients (0..10) used to calculate pressure profile: \n",
    "$$ p=\\sum_{n=0}^{10} am(n) * s^n . $$ \n",
    "The PRES_SCALE value is a scale factor applied to the profile allowing it to be scaled up and down."
   ]
  },
  {
   "cell_type": "code",
   "execution_count": null,
   "metadata": {},
   "outputs": [],
   "source": [
    "# plot pressure profile\n",
    "am = np.array([6.85517649352426E+04, -5.12027745123057E+03, -3.61510451745464E+04, -4.74263014113066E+05,\n",
    "  1.78878195473870E+06, -3.21513828868170E+06,  2.69041023837233E+06, -8.17049854168367E+05,\n",
    "  0.00000000000000E+00,  0.00000000000000E+00,  0.00000000000000E+00])\n",
    "pressure = np.polynomial.polynomial.Polynomial(am)\n",
    "flux = np.linspace(0,1,100)\n",
    "plt.figure()\n",
    "plt.plot(flux, pressure(flux))\n",
    "plt.xlabel('normalized flux')\n",
    "plt.ylabel('pressure [Pa]')"
   ]
  },
  {
   "cell_type": "markdown",
   "metadata": {
    "ExecuteTime": {
     "end_time": "2020-08-20T01:05:36.552274Z",
     "start_time": "2020-08-20T01:05:36.541405Z"
    }
   },
   "source": [
    "### Rotational transform or toroidal current density profile\n",
    "The VMEC code provides the user an option to specify either a rotational transform radial profile or a toroidal current density profile. \n",
    "The NCURR parameter determine which form of the profile to use (0: Rotational Transform, 1: Toroidal Current Density). \n",
    "The AI parameter specifies the polynomial coefficients (0..10) used to calculate the rotational transform profile (NCURR=0) \n",
    "$$ \\iota=\\sum_{n=0}^{10} ai(n) * s^n . $$ \n",
    "The AC_FORM parameter determines the form of the current profiles used (NCURR=1). For AC_FORM=0 the toroidal current profile is power series in s defined by the AC parameter \n",
    "$$ j=\\sum_{n=0}^{10} ac(n) * s^n . $$"
   ]
  },
  {
   "cell_type": "code",
   "execution_count": null,
   "metadata": {},
   "outputs": [],
   "source": [
    "# plot current profile\n",
    "ac = np.array([8.18395699999999E+03,  1.43603560000000E+06, -1.07407140000000E+07,  7.44389200000000E+07,\n",
    " -3.22215650000000E+08,  8.81050800000000E+08, -1.49389660000000E+09,  1.52746800000000E+09,\n",
    " -8.67901590000000E+08,  2.10351200000000E+08,  0.00000000000000E+00])\n",
    "current = np.polynomial.polynomial.Polynomial(ac)\n",
    "flux = np.linspace(0,1,100)\n",
    "plt.figure()\n",
    "plt.plot(flux, current(flux))\n",
    "plt.xlabel('normalized flux')\n",
    "plt.ylabel('current [A]')"
   ]
  },
  {
   "cell_type": "markdown",
   "metadata": {},
   "source": [
    "### Other input variables\n",
    "There are also other input variables required for a VMEC run.\n",
    "More details can be found in [VMEC input namelist](https://princetonuniversity.github.io/STELLOPT/VMEC%20Input%20Namelist%20(v8.47)), [Tutorial: Prepare VMEC Input Namelist](https://princetonuniversity.github.io/STELLOPT/Tutorial%20VMEC%20Input%20Namelist)."
   ]
  },
  {
   "cell_type": "markdown",
   "metadata": {},
   "source": [
    "## Run VMEC\n",
    "Now run VMEC using\n",
    "```\n",
    "mpiexec -n 4 xvmec2000 input.QAS 2>&1 | tee log.vmec\n",
    "```\n",
    "On the screen, you should be able to see the output information."
   ]
  },
  {
   "cell_type": "code",
   "execution_count": null,
   "metadata": {},
   "outputs": [],
   "source": [
    "less log.vmec"
   ]
  },
  {
   "cell_type": "markdown",
   "metadata": {},
   "source": [
    "## Check VMEC results\n",
    "You can now check the VMEC outputs.\n",
    "When executed normally, VMEC will produce several files.\n",
    "\n",
    "  - `jxbout.QAS' contains values for various quantities on a grid throughout the simulation domain.\n",
    "  - 'mercier.QAS' contains radial profiles (radial index in VMEC is denoted by the variable `s`) of various quantities. \n",
    "  - 'threed1.QAS' can be considered an expanded log file where various quantities are calculated which were not output to the screen. This file is fairly self explanatory. \n",
    "  - 'wout_QSS.nc' is a [NetCDF](https://www.unidata.ucar.edu/software/netcdf/) file contains main data. It contains the Fourier Coefficients for the magnetic field along with various quantities."
   ]
  },
  {
   "cell_type": "code",
   "execution_count": null,
   "metadata": {},
   "outputs": [],
   "source": [
    "# Read the netcdf file\n",
    "import xarray\n",
    "wout = 'wout_QAS.nc'\n",
    "vmec = xarray.open_dataset(wout)\n",
    "print(vmec)"
   ]
  },
  {
   "cell_type": "code",
   "execution_count": null,
   "metadata": {},
   "outputs": [],
   "source": [
    "# plot iota\n",
    "plt.figure()\n",
    "plt.plot(np.linspace(0, 1, vmec['ns'].values), vmec['iotaf'])"
   ]
  },
  {
   "cell_type": "code",
   "execution_count": null,
   "metadata": {},
   "outputs": [],
   "source": [
    "# plot |B|\n",
    "from coilpy import VMECout\n",
    "qas = VMECout(wout)\n",
    "plt.figure()\n",
    "ns = 10 # surface label [0,127]\n",
    "plt.imshow(qas.data['b'][10], origin='lower', extent=[0, 2*np.pi/3, 0, 2*np.pi], aspect='auto')\n",
    "plt.colorbar()"
   ]
  },
  {
   "cell_type": "code",
   "execution_count": null,
   "metadata": {},
   "outputs": [],
   "source": [
    "# plot flux surface\n",
    "zeta = 0\n",
    "plt.figure()\n",
    "for isurf in qas.surface[::8]:\n",
    "    isurf.plot(zeta=zate)"
   ]
  },
  {
   "cell_type": "markdown",
   "metadata": {},
   "source": [
    "# STELLOPT"
   ]
  },
  {
   "cell_type": "markdown",
   "metadata": {
    "ExecuteTime": {
     "end_time": "2020-08-19T19:18:17.443577Z",
     "start_time": "2020-08-19T19:18:17.441284Z"
    }
   },
   "source": [
    "## STELLOPT input namelist\n",
    "Like VMEC, [STELLOPT](https://princetonuniversity.github.io/STELLOPT/STELLOPT) reads input variables from the Fortran namelist [`&OPTIMUM`](https://princetonuniversity.github.io/STELLOPT/STELLOPT%20Input%20Namelist).\n",
    "The two namelists have to placed into the same file.\n",
    "STELLOPT has a long list of input variables.\n",
    "Here we are going to only introduce some of them.\n",
    "\n",
    "### Runtime control\n",
    "The following parameters control how the code runs. Depending on the type of optimization the parameters may change functionality.\n",
    "```\n",
    "&OPTIMUM\n",
    "!------------------------------------------------------------------------\n",
    "!       Optimizer Run Control Parameters\n",
    "!------------------------------------------------------------------------\n",
    "  NFUNC_MAX    = 5000                       ! Maximum number of function evaluations\n",
    "  EQUIL_TYPE   = 'VMEC2000'                 ! Equilibrium Code VMEC2000\n",
    "  OPT_TYPE     = 'LMDIF'                    ! Optimization Type (LMDIF),GADE,MAP,PSO\n",
    "  NOPTIMIZERS  = -1                         ! Number of optimizers\n",
    "  FTOL         = 1.0E-4                     ! Absolute Tolerance\n",
    "  XTOL         = 1.0E-4                     ! Relative Tolerance\n",
    "  GTOL         = 1.0E-30                    ! Orthogonality Tolerance\n",
    "  EPSFCN       = 1.0E-4                     ! Finite Difference Stepsize\n",
    "  FACTOR       = 100.0                      ! Initial step scaling\n",
    "  MODE         = 1                          ! Mode Parameter\n",
    "  LKEEP_MINS   = T                          ! Logical to keep minimum states\n",
    "```\n",
    "\n",
    "### Variables\n",
    "Specify the variables you want to vary.\n",
    "By default, all the variables will be fixed.\n",
    "The variables are named in the style of `LVAR_OPT` (`VAR` is variable name).\n",
    "If the optimizer supports, you can specify the upper and lower bounds for the variable, `VAR_MIN`, `VAR_MAX`, with a scaling value `DVAR`.\n",
    "```\n",
    "!------------------------------------------------------------------------\n",
    "!       Optimized Quantities\n",
    "!------------------------------------------------------------------------\n",
    "  LPHIEDGE_OPT  = T\n",
    "    PHIEDGE_MIN = 0.01\n",
    "    PHIEDGE_MAX = 1.00\n",
    "    DPHIEDGE    = 1.0\n",
    "  LCURTOR_OPT   = T\n",
    "  LPSCALE_OPT   = T\n",
    "  LBCRIT_OPT    = T\n",
    "  LEXTCUR_OPT   = T T T T\n",
    "  LAPHI_OPT     = T T T T\n",
    "  LAM_OPT       = T T T T\n",
    "  LAC_OPT       = F T F T\n",
    "  LAI_OPT       = T F T F\n",
    "  LBOUND_OPT(1,0) = T      ! Optimize RBC,ZBS Arrays\n",
    "  LRHO_OPT(1,0) = T        ! Optimize RHOMN (Hirshman/Breslau representation)\n",
    "  LDELTAMN_OPT(1,0) = T    ! Optimize DELTAMN (Garabedian representation)\n",
    " ```\n",
    "The three different boundary representations will be introduced in Project_02 in the computer labs tomorrow.\n",
    " \n",
    "### Targets\n",
    "There are various chi-squared functionals and each is a unique set of parameters. In general for each target value there is a sigma associated with it. Here they are some examples.\n",
    "```\n",
    "!------------------------------------------------------------------------\n",
    "!       Equilibrium / Geometry Optimization Targets\n",
    "!------------------------------------------------------------------------\n",
    "  TARGET_PHIEDGE = 2.5    SIGMA_PHIEDGE = 0.025   ! Enclosed Toroidal Flux [Wb]\n",
    "  TARGET_CURTOR  = 1.0E6  SIGMA_CURTOR  = 1.0E3   ! Total Toroidal Current [A]\n",
    "  TARGET_CURVATURE = 1.0E-3  SIGMA_CURVATURE = 1.0 ! Flux surface curvature\n",
    "  TARGET_RBTOR   = 7.2    SIGMA_RBTOR   = 0.01    ! R*Btor [T-m]\n",
    "  TARGET_R0      = 3.6    SIGMA_R0      = 0.01    ! Magnetic Axis R (phi=0) [m]\n",
    "  TARGET_Z0      = 0.5    SIGMA_Z0      = 0.01    ! Magnetic Axis Z (phi=0) [m]\n",
    "  TARGET_VOLUME  = 1.0E2  SIGMA_VOLUME  = 1.0     ! Plasma Volume [m^-3]\n",
    "  TARGET_BETA    = 0.02   SIGMA_BETA    = 0.0001  ! Average Plasma Beta\n",
    "  TARGET_WP      = 1.0E3  SIGMA_WP      = 1.0     ! Stored Energy [J]\n",
    "  TARGET_ASPECT  = 5.0    SIGMA_ASPECT  = 0.5     ! Aspect Ratio (R/a)\n",
    "!------------------------------------------------------------------------\n",
    "!       Boozer Coordinate Helicity\n",
    "!         Note that helicity targeting is by surface.  Axis (01) is ignored.\n",
    "!         (X,0): Quasi-Axisymetry\n",
    "!         (0,X): Quasi-Poloidal Symmetry\n",
    "!         (L,K): Quasi-Helical Symmetry (m *K + n*L)\n",
    "!------------------------------------------------------------------------\n",
    "  HELICITY = (1,0)\n",
    "  TARGET_HELICITY(02:128) = 127*0.0  SIGMA_HELICITY(02:128) = 127*0.01\n",
    "!------------------------------------------------------------------------\n",
    "!       Ballooning Stability (as calculated by COBRA_VMEC)\n",
    "!         Note that ballooning stability is by surface.  Axis (01) is ignored.\n",
    "!         THETA, ZETA: Ballooning angle perturbations\n",
    "!------------------------------------------------------------------------\n",
    "  BALLOON_THETA = 0.0  3.14  5.50\n",
    "  BALLOON_ZETA    = 0.0 3.14  5.50\n",
    "  TARGET_BALLOON(02:128) = 127*0.0   SIGMA_BALLOON(02:128) = 127*0.2\n",
    "!------------------------------------------------------------------------\n",
    "!       Neoclassical Transport Calculation (as calculated by NEO)\n",
    "!         Note that neoclassical transport is by surface. Axis (01) is ignored.\n",
    "!------------------------------------------------------------------------\n",
    "  TARGET_NEO(02:128) = 127*0.0  SIGMA_NEO(02:128) = 127*0.1\n",
    "```"
   ]
  },
  {
   "cell_type": "markdown",
   "metadata": {},
   "source": [
    "## One iteration evaluation\n",
    "Let's first just do a \"one-iteration\" optimization, by using `OPT_TYPE = 'ONE_ITER'`.\n",
    "We have pasted the above namelist and append it at the end of `input.QAS`.\n",
    "Now, we can evaluate the properties of the equilibrium.\n",
    "```\n",
    "mpiexec -n 4 xstelloptv2 input.QAS 2>&1 | tee log.stellopt\n",
    "```"
   ]
  },
  {
   "cell_type": "code",
   "execution_count": null,
   "metadata": {},
   "outputs": [],
   "source": [
    "# checkout STELLOPT screen output\n",
    "less log.stellopt"
   ]
  },
  {
   "cell_type": "markdown",
   "metadata": {},
   "source": [
    "## Check STELLOPT results\n",
    "Once a run has been completed, STELLOPT will write a ASCII file `stellopt.QAS` containing the main data.\n",
    "STELLOPT will also save all the intermediate outputs from sub-codes, like `wout_QAS.00000.nc`."
   ]
  },
  {
   "cell_type": "code",
   "execution_count": null,
   "metadata": {
    "ExecuteTime": {
     "end_time": "2020-08-19T19:18:45.807800Z",
     "start_time": "2020-08-19T19:18:45.805225Z"
    }
   },
   "outputs": [],
   "source": [
    "# Read stellopt.QAS file\n",
    "from coilpy import STELLout\n",
    "stell_qas = STELLout('stellopt.QAS')\n",
    "\n",
    "# plot the convergence\n",
    "stell_qas.plot()"
   ]
  },
  {
   "cell_type": "code",
   "execution_count": null,
   "metadata": {},
   "outputs": [],
   "source": [
    "# plot Ballooning stability\n",
    "stell_qas.plot_balloon()"
   ]
  },
  {
   "cell_type": "code",
   "execution_count": null,
   "metadata": {},
   "outputs": [],
   "source": [
    "# Read BOOZ_XFORM output\n",
    "from coilpy import BOOZ_XFORM\n",
    "booz = BOOZ_XFORM('boozmn_QAS.00000.nc')\n",
    "\n",
    "# plot non-axisymmetric terms\n",
    "booz.plot()"
   ]
  },
  {
   "cell_type": "code",
   "execution_count": null,
   "metadata": {},
   "outputs": [],
   "source": [
    "# plot |B| contour on one surface\n",
    "booz.plot2d(ns=10, contour=True)"
   ]
  },
  {
   "cell_type": "code",
   "execution_count": null,
   "metadata": {},
   "outputs": [],
   "source": [
    "# plot epsilon_eff\n",
    "plt.figure()\n",
    "plt.semilogy(stell_qas['NEO_K'][0], stell_qas['NEO_equil'][0])"
   ]
  },
  {
   "cell_type": "markdown",
   "metadata": {
    "ExecuteTime": {
     "end_time": "2020-08-19T19:26:03.678023Z",
     "start_time": "2020-08-19T19:26:03.676031Z"
    }
   },
   "source": [
    "## Task\n",
    "Can you prepare a STELLOPT input file based on the `input.QAS` to optimize the $RBC_{0,0}$ term such that the volume of the enclosed plasmas is close to $4m^3$?"
   ]
  }
 ],
 "metadata": {
  "kernelspec": {
   "display_name": "Python 3",
   "language": "python",
   "name": "python3"
  },
  "language_info": {
   "codemirror_mode": {
    "name": "ipython",
    "version": 3
   },
   "file_extension": ".py",
   "mimetype": "text/x-python",
   "name": "python",
   "nbconvert_exporter": "python",
   "pygments_lexer": "ipython3",
   "version": "3.7.3"
  },
  "toc": {
   "base_numbering": 1,
   "nav_menu": {},
   "number_sections": true,
   "sideBar": true,
   "skip_h1_title": false,
   "title_cell": "Table of Contents",
   "title_sidebar": "Contents",
   "toc_cell": false,
   "toc_position": {},
   "toc_section_display": true,
   "toc_window_display": false
  },
  "varInspector": {
   "cols": {
    "lenName": 16,
    "lenType": 16,
    "lenVar": 40
   },
   "kernels_config": {
    "python": {
     "delete_cmd_postfix": "",
     "delete_cmd_prefix": "del ",
     "library": "var_list.py",
     "varRefreshCmd": "print(var_dic_list())"
    },
    "r": {
     "delete_cmd_postfix": ") ",
     "delete_cmd_prefix": "rm(",
     "library": "var_list.r",
     "varRefreshCmd": "cat(var_dic_list()) "
    }
   },
   "types_to_exclude": [
    "module",
    "function",
    "builtin_function_or_method",
    "instance",
    "_Feature"
   ],
   "window_display": false
  }
 },
 "nbformat": 4,
 "nbformat_minor": 2
}
