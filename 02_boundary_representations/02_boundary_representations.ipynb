{
 "cells": [
  {
   "cell_type": "markdown",
   "metadata": {},
   "source": [
    "# 02_STELLOPT_Boundary_Representations\n",
    "Prepared by Caoxiang Zhu for group 2 of the Joint PPPL/Simons Summer School 2020\n",
    "\n",
    "In fixed-boundary optimizations, [__STELLOPT__](https://princetonuniversity.github.io/STELLOPT/STELLOPT) varies the boundary coefficients to achieve target properties.\n",
    "There are three boundary representations in STELLOPT: __VMEC representation__, __Hirshman-Breslau representation__ and __Garabedian representation__.\n",
    "There is a brief webpage introducing these representations on the [VMECwiki](https://princetonuniversity.github.io/STELLOPT/STELLOPT%20Fixed%20Boundary%20Optimization).\n",
    "Here, we are going to introduce them with more details and compare the optimization results using different representations."
   ]
  },
  {
   "cell_type": "markdown",
   "metadata": {},
   "source": [
    "## VMEC representation\n",
    "### General description\n",
    "The __VMEC representation__ is from the [VMEC](https://princetonuniversity.github.io/STELLOPT/VMEC) code.\n",
    "A toroidal surface, $\\cal{S}$, is represented in cylinder coordinates $(R, \\phi, Z)$ as\n",
    "$$ R = \\sum R_{mn} \\cos(m \\theta -nN\\phi) $$\n",
    "$$ Z = \\sum Z_{mn} \\sin(m \\theta -nN\\phi) $$\n",
    "Here, we assume that the surface has the so-called \"_stellarator symmetry_\", i.e. $R(-\\theta, -\\phi) = R(\\theta, \\phi)$ and $Z(-\\theta, -\\phi) = -Z(\\theta, \\phi)$. \n",
    "$N>0$ is the number of field periods. \n",
    "$\\theta$ is a parametric angle variable and is usually called the poloidal angle, while the cylindrical angle $\\phi$ is also called the toroidal angle.\n",
    "\n",
    "The two arrays of VMEC coefficients, $R_{mn}$ and $Z_{mn}$, can now uniquely describe a toroidal surface (of course, if no stellarator symmetry is assumed, we need four arrays, both cosine and sine harmonics for R and Z). \n",
    "__The poloidal angle $\\theta$ is not constrained, thus one can represent the same surface using different sets of Fourier coefficients.__\n",
    "\n",
    "### Numerical details\n",
    "In the `INDATA` namelist (for both VMEC and STELLOPT), the following variables are related to the VMEC representation.\n",
    "\n",
    "| Variable name | Type | Description |\n",
    "| ------------- | ---- | ----------- |\n",
    "| NFP | integer | Number of toroidal field periods |\n",
    "| LASYM | logical | Switch for stellarator symmetry, T: no; F: yes |\n",
    "| MPOL | integer |Poloidal Mode Number (m) |\n",
    "| NTOR | integer |Toroidal Mode Number (n) |\n",
    "|RBC(N,M)       | real(-NTOR:NTOR, 0:MPOL)| Boundary cosine coefficients for R |\n",
    "|ZBS(N,M)       | real(-NTOR:NTOR, 0:MPOL)| Boundary   sine coefficients for Z |\n",
    "|RBS(N,M)       | real(-NTOR:NTOR, 0:MPOL)| Boundary cosine coefficients for R |\n",
    "|ZBC(N,M)       | real(-NTOR:NTOR, 0:MPOL)| Boundary   sine coefficients for Z |\n",
    "\n",
    "In the `OPTIMUM` namelist (for STELLOPT optimization), the variables __LBOUND_OPT(N,M)__ are used to control the boundary coefficients.\n",
    "For example, if `LBOUND_OPT(-1,1) = T` is set, the RBC(-1,1) and ZBS(-1,1) parameters are varied during the optimization (`LASYM = F`). \n",
    "If `LASYM = T` in `INDATA`, then RBS(-1,1) and ZBC(-1,1) are also free variables. \n",
    "The corresponding BOUND variables are __RBC_MIN(N,M)__, __RBC_MAX(N,M)__, etc.\n"
   ]
  },
  {
   "cell_type": "markdown",
   "metadata": {},
   "source": [
    "## Hirshman-Breslau representation\n",
    "### General description\n",
    "The Hirshman-Breslau representation is introduced in [Hirshman, S. P., & Breslau, J. (1998). Physics of Plasmas, 5(7)](https://aip.scitation.org/doi/abs/10.1063/1.872954). In that paper, Hirshman & Breslau introduced two unqiue representations to provide additional contraints on the poloidal angle. The one used in STELLOPT is the so-called \"quasi-polar\"representation. It uses an effective (quasipolar) \"radius\" $\\rho$ as the only coordinate.\n",
    "$$ \\rho =  \\sum \\rho^c_{mn} \\cos(m \\theta -nN\\phi) + \\rho^s_{mn} \\sin(m \\theta -nN\\phi)$$\n",
    "$$ r = \\rho \\cos(\\theta)$$\n",
    "$$ z = \\rho \\sin(\\theta)$$\n",
    "\n",
    "The implemention of Hirshman-Breslau representation in STELLOPT is introduced Sec. IV.B in that paper. For a given set of $RBC$ and $ZBS$ (only avalid for stellarator symmetry and only $\\rho^s_{mn}$ is used), the covert is carried out as\n",
    "$$ m=0,1 \\quad \\rho(n,m) = \\frac{1}{2} \\left [\\frac{RBC(n,m+1)+ZBS(n,m+1)}{t_1(m+1)} \\right ] $$\n",
    "$$ m\\geq2 \\quad \\rho(n,m) = \\frac{1}{4} \\left[\\frac{RBC(n,m+1)+ZBS(n,m+1)}{t_1(m+1)} + \\frac{RBC(n,m-1)+ZBS(n,m-1)}{t_2(m-1)}\\right] $$\n",
    "\n",
    "where $t_1(m) = (\\frac{m-1}{m})^p$, $t_2(m) = (\\frac{m+1}{m})^p$. The exponential index $p$ can improve the convergence. $p=0$ is the polar representation and $p=1$ is the equal arc-length representation. Normally, $p=4$ is a good value. \n",
    "\n",
    "__The Hirshman-Breslau representation has a unique poloidal angle.__"
   ]
  },
  {
   "cell_type": "markdown",
   "metadata": {},
   "source": [
    "### Numerical details\n",
    "In order to use the  Hirshman-Breslau representation, the user has to specify `LRHO_OPT(N,M) = T` in the input file.\n",
    "The exponential term $p$ in the paper is determined by `RHO_EXP` in the namelist.\n",
    "If the user wishes STELLOPT to vary the `m=0` modes, the `LBOUND_OPT(N,0)` modes should be set to true (ignoring the N=0 mode).\n",
    "\n",
    "When using the Hirshman-Breslau representation, STELLOPT will first read `RBC` and `ZBS` terms in the input file and then convert the boundary using the subroutine [convert_boundary](https://github.com/PrincetonUniversity/STELLOPT/blob/develop/LIBSTELL/Sources/Miscel/convert_boundary.f).\n",
    "One should note the conversion is not guaranteed to be accurate. \n",
    "STELLOPT will also write a file `rhomn.txt` containing the boundary parameters."
   ]
  },
  {
   "cell_type": "markdown",
   "metadata": {},
   "source": [
    "## Garabedian representation\n",
    "### General description\n",
    "The [Garabedian representation](http://www.pnas.org/content/95/17/9732.long) packs $R$ and $Z$ into a complex number\n",
    "$$ R + iZ = e^{2\\pi iu} \\sum \\Delta_{mn} e^{-2\\pi i (mu-nv)} .$$\n",
    "Here, $R$ and $Z$ are the radial and axial components of cylindrical coordinates, $m$ and $n$ are the poloidal and toroidal mode numbers, and $u$ and $v$ are the normalized poloidal and toroidal angle-like variables, $0 \\leq u< 1$ and $0 \\leq v< 1$ ($2\\pi u = \\theta,2\\pi v /N = \\phi$, $\\theta$ and $\\phi$ being the poloidal and toroidal angles, respectively).\n",
    "\n",
    "In this notation, the coefficient $\\Delta_{00}$ is a measure of the plasma minor radius and $\\Delta_{10}$ the major radius. It's usually imposed the normalization $\\Delta_{00}=1.0$ on the small plasma radius. Conformal mapping shows that shape factors $\\Delta_{mn}$ with large negative $m$ cause unrealistic cusps to penetrate the plasma, so we choose to leave them out when $m<-1$. The terms with $m =−1$, which define catenoids or crescents, are helpful because they contribute significantly to the magnetic well. Analytic geometry shows that the coefficients $\\Delta_{1n}$ specify the helical excursion of the magnetic axis, whereas $\\Delta_{2n}$ makes the plasma shape elliptical, $\\Delta_{3n}$ makes it triangular, $\\Delta_{4n}$ makes it rectangular, and so forth. Experience with the computations establishes that each $\\Delta_{mn}$ has a strong influence on the corresponding coefficient Bmn in the magnetic spectrum, which makes it easier to design stellarators with approximate two-dimensional symmetry.\n",
    "\n",
    "In Garabedian representation, the poloidal angle $u$ (or $\\theta$) is not unique. Improved zoning can be obtained by performing an additional substitution $ u = u_1 - \\sum Z_{mn} \\sin(mu_1-nv) $ on the poloidal angle $u$. __The poloidal angle in the Garabedian representation is not unique.__"
   ]
  },
  {
   "cell_type": "markdown",
   "metadata": {},
   "source": [
    "### Numerical details\n",
    "In order to use the Garabedian representation, the user has to specify `LDELTAMN_OPT(N,M) = T` in the input file.\n",
    "\n",
    "When using the Garabedian representation, STELLOPT will first read `RBC` and `ZBS` terms in the input file and then convert the boundary using the subroutine [convert_boundary_PG](https://github.com/PrincetonUniversity/STELLOPT/blob/develop/LIBSTELL/Sources/Miscel/convert_boundary_PG.f).\n",
    "STELLOPT will also write a file `deltamn.txt` containing the boundary parameters."
   ]
  },
  {
   "cell_type": "markdown",
   "metadata": {},
   "source": [
    "## Comparisons\n",
    "In the folder, we have three cases in `./vmec/`, `./hb/`, and `./gb/`.\n",
    "They are from the same boundary and have the same targets.\n",
    "The only difference is that they use different surface representations during the optimization.\n",
    "The goal of this experiment is to preliminarily explore the difference in the three surface representations.\n",
    "\n",
    "You can simply run the following commands in the terminal.\n",
    "```shell\n",
    "cd ./vmec\n",
    "mpiexec -n 8 xstelloptv2 input.qas_vmec\n",
    "```\n",
    "\n",
    "It will take about 20 mins to finish.\n",
    "You can also use more CPUs to accelerate or use fewer CPUs if many people are running code simultaneously.\n",
    "Once finished, you can check the results."
   ]
  },
  {
   "cell_type": "code",
   "execution_count": 1,
   "metadata": {
    "ExecuteTime": {
     "end_time": "2020-08-16T19:25:06.053686Z",
     "start_time": "2020-08-16T19:25:05.279800Z"
    }
   },
   "outputs": [],
   "source": [
    "# import required packages\n",
    "# Please update coilpy by typing `pip install -U coilpy` before importing\n",
    "import matplotlib.pyplot as plt\n",
    "import numpy as np\n",
    "from coilpy import *"
   ]
  },
  {
   "cell_type": "code",
   "execution_count": null,
   "metadata": {},
   "outputs": [],
   "source": [
    "cd ./vmec"
   ]
  },
  {
   "cell_type": "markdown",
   "metadata": {},
   "source": [
    "### Check STELLOPT results\n",
    "\n",
    "Now we can check the STELLOPT results.\n",
    "The main output is `stellopt.all` file in which STELLOPT writes the status of each iteration.\n",
    "We can read this file by using the python code [`coilpy.STELLout` ](https://github.com/zhucaoxiang/CoilPy/blob/master/coilpy/stellopt.py), or something else you like."
   ]
  },
  {
   "cell_type": "code",
   "execution_count": null,
   "metadata": {},
   "outputs": [],
   "source": [
    "# read the ooutput\n",
    "stell_all = STELLout('stellopt.all')"
   ]
  },
  {
   "cell_type": "code",
   "execution_count": null,
   "metadata": {},
   "outputs": [],
   "source": [
    "# plot the convergence\n",
    "stell_all.plot()"
   ]
  },
  {
   "cell_type": "markdown",
   "metadata": {},
   "source": [
    "### Check the VMEC equilibrium\n",
    "\n",
    "For each successiful iteration, STELLOPT will save the VMEC output (and the results from other codes as well).\n",
    "You can check the status of VMEC equilibrium at each iteration.\n",
    "```\n",
    "ls -al wout_*\n",
    "```"
   ]
  },
  {
   "cell_type": "code",
   "execution_count": null,
   "metadata": {},
   "outputs": [],
   "source": [
    "# Read the initial VMEC output file\n",
    "init = VMECout('wout_all.00000.nc')"
   ]
  },
  {
   "cell_type": "code",
   "execution_count": null,
   "metadata": {},
   "outputs": [],
   "source": [
    "# Check the flux surface shape\n",
    "init.plot('LPK')"
   ]
  },
  {
   "cell_type": "code",
   "execution_count": null,
   "metadata": {},
   "outputs": [],
   "source": [
    "# Check iota profile\n",
    "init.plot('iota')\n",
    "# Check Pressure profile\n",
    "init.plot('pressure')"
   ]
  },
  {
   "cell_type": "code",
   "execution_count": null,
   "metadata": {},
   "outputs": [],
   "source": [
    "# compare two VMEC equilibrium\n",
    "final = VMECout('wout_reset_file.nc')\n",
    "plt.figure()\n",
    "init.surface[-1].plot(zeta=0, color='b', linestyle='--', label='initial')\n",
    "init.surface[-1].plot(zeta=np.pi/3, color='b', linestyle='--')\n",
    "final.surface[-1].plot(zeta=0, color='r', linestyle='-', label='final')\n",
    "final.surface[-1].plot(zeta=np.pi/3, color='r', linestyle='-')\n",
    "plt.legend()"
   ]
  },
  {
   "cell_type": "markdown",
   "metadata": {},
   "source": [
    "### Hirshman-Breslau representation not accurately converted\n",
    "When STELLOPT first converts `RBC` and `ZBS` into the Hirshman-Breslau representation.\n",
    "It is likely the boundary shape will be changed.\n",
    "For example, `./hb/input.qas_hb_exp1.00000` is obtained by convert `RBC` into `rhomn` (with `rho_exp=1`) and then convert back to run VMEC.\n",
    "We can compare the flux surface shapes in the two input files."
   ]
  },
  {
   "cell_type": "code",
   "execution_count": 6,
   "metadata": {
    "ExecuteTime": {
     "end_time": "2020-08-17T03:09:33.002506Z",
     "start_time": "2020-08-17T03:09:32.921833Z"
    }
   },
   "outputs": [],
   "source": [
    "# read VMEC input files into a Fourier surface\n",
    "original = FourSurf.read_vmec_input('./hb/input.qas_hb')\n",
    "converted = FourSurf.read_vmec_input('./hb/input.qas_hb_exp1.00000')"
   ]
  },
  {
   "cell_type": "code",
   "execution_count": 10,
   "metadata": {
    "ExecuteTime": {
     "end_time": "2020-08-17T03:54:00.308390Z",
     "start_time": "2020-08-17T03:54:00.017228Z"
    }
   },
   "outputs": [
    {
     "data": {
      "text/plain": [
       "<matplotlib.legend.Legend at 0x31fb15780>"
      ]
     },
     "execution_count": 10,
     "metadata": {},
     "output_type": "execute_result"
    },
    {
     "data": {
      "image/png": "[encoded data removed]",
      "text/plain": [
       "<Figure size 576x432 with 1 Axes>"
      ]
     },
     "metadata": {
      "needs_background": "light"
     },
     "output_type": "display_data"
    }
   ],
   "source": [
    "# plot the boundary shape\n",
    "plt.figure(figsize=(8,6))\n",
    "original.plot(npoints=32, marker='o', label='original, phi=0')\n",
    "original.plot(zeta=np.pi, npoints=32, marker='o', label='original, phi=pi/3')\n",
    "converted.plot(npoints=32, marker='x', label='converted, phi=0')\n",
    "converted.plot(zeta=np.pi, npoints=32, marker='x', label='converted, phi=pi/3')\n",
    "plt.legend()"
   ]
  },
  {
   "cell_type": "markdown",
   "metadata": {
    "ExecuteTime": {
     "end_time": "2020-08-17T04:04:32.303861Z",
     "start_time": "2020-08-17T04:04:32.278596Z"
    }
   },
   "source": [
    "$p=1$ in the Hirshman-Breslau representation is also called \"equal-arc\" angle.\n",
    "Looking at the above figure, you can see the \"converted\" angle is indeed somehow \"equal-arc\".\n",
    "In the file `./hb/input.qas_hb`, we are using `rho_exp=4` and the difference after conversion is small.\n",
    "\n",
    "Now please compare all the three cases."
   ]
  },
  {
   "cell_type": "code",
   "execution_count": null,
   "metadata": {},
   "outputs": [],
   "source": []
  }
 ],
 "metadata": {
  "kernelspec": {
   "display_name": "Python 3",
   "language": "python",
   "name": "python3"
  },
  "language_info": {
   "codemirror_mode": {
    "name": "ipython",
    "version": 3
   },
   "file_extension": ".py",
   "mimetype": "text/x-python",
   "name": "python",
   "nbconvert_exporter": "python",
   "pygments_lexer": "ipython3",
   "version": "3.7.3"
  },
  "toc": {
   "base_numbering": 1,
   "nav_menu": {},
   "number_sections": true,
   "sideBar": true,
   "skip_h1_title": false,
   "title_cell": "Table of Contents",
   "title_sidebar": "Contents",
   "toc_cell": false,
   "toc_position": {},
   "toc_section_display": true,
   "toc_window_display": false
  },
  "varInspector": {
   "cols": {
    "lenName": 16,
    "lenType": 16,
    "lenVar": 40
   },
   "kernels_config": {
    "python": {
     "delete_cmd_postfix": "",
     "delete_cmd_prefix": "del ",
     "library": "var_list.py",
     "varRefreshCmd": "print(var_dic_list())"
    },
    "r": {
     "delete_cmd_postfix": ") ",
     "delete_cmd_prefix": "rm(",
     "library": "var_list.r",
     "varRefreshCmd": "cat(var_dic_list()) "
    }
   },
   "types_to_exclude": [
    "module",
    "function",
    "builtin_function_or_method",
    "instance",
    "_Feature"
   ],
   "window_display": false
  }
 },
 "nbformat": 4,
 "nbformat_minor": 2
}
