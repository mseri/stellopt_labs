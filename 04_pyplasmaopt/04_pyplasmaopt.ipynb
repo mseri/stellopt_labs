{
 "cells": [
  {
   "cell_type": "markdown",
   "metadata": {},
   "source": [
    "Prepared by Elizabeth Paul for Group 4 at the 2020 Simons/PPPL Summer School on Stellarator Optimization\n",
    "https://hiddensymmetries.princeton.edu/summer-school/summer-school-2020/overview"
   ]
  },
  {
   "cell_type": "markdown",
   "metadata": {},
   "source": [
    "**Note on matplotlib**\n",
    "\n",
    "This notebook will use matplotlib (https://matplotlib.org/) for plotting \n",
    "\n",
    "If you would like your figures to appear inline, include the following line at the top of your cell \\\n",
    "<code>%matplotlib inline<\\code> \n",
    "    \n",
    "If you would like interactive figures (e.g. zoom, rotate), include the following line \n",
    "    \n",
    "<code>%matplotlib notebook<\\code>"
   ]
  },
  {
   "cell_type": "markdown",
   "metadata": {},
   "source": [
    "**Note on FORTRAN code execution**\n",
    "\n",
    "This notebook will guide you through running several FORTRAN codes from the command line. Each FORTRAN code can be executed using a bash script labeled \"script\". \n",
    "\n",
    "For example, the vmec/script reads:\n",
    "\n",
    "<code>xvmec2000 input.pyplasmaopt | tee output.txt</code>\n",
    "\n",
    "This runs the VMEC code serially. If you would like to run with 4 MPI processes, edit the script to read:\n",
    "\n",
    "<code>mpiexec -n 4 xvmec2000 input.pyplasmaopt | tee output.txt</code>\n",
    "\n",
    "Each group's server has access to 24 CPU's. You can decide how you would like to distribute the available resources. "
   ]
  },
  {
   "cell_type": "markdown",
   "metadata": {},
   "source": [
    "**Introduction**\n",
    "\n",
    "In this lab, we will be postprocessing results obtained from the vacuum field optimization process with PyPlasmaOpt, which you explored in Thursday's lab session. In this directory, you should find the following text files which were generated from one of these configurations. This should include:\n",
    "\n",
    "- current-\\*.txt (coil currents)\n",
    "- coil-\\*.txt (coil shapes)\n",
    "- X.txt, Y.txt, Z.txt (magnetic surface shape)\n",
    "- iota.txt (iota on surface)\n",
    "\n",
    "We will be running free-boundary VMEC using these coil shapes and analyzing its quasisymmetry using a Boozer coordinate transformation.\n",
    "\n",
    "We will begin by importing various things"
   ]
  },
  {
   "cell_type": "code",
   "execution_count": null,
   "metadata": {},
   "outputs": [],
   "source": [
    "import numpy as np\n",
    "import os\n",
    "from coilpy import *\n",
    "import sys\n",
    "from simsopt.modules.vmec.input import init_modes\n",
    "from simsopt.modules.vmec.output import VmecOutput\n",
    "import matplotlib.pyplot as plt"
   ]
  },
  {
   "cell_type": "markdown",
   "metadata": {},
   "source": [
    "We will now read in the coil_\\*.txt and current_\\*.txt files produced by the pyplasmaopt code"
   ]
  },
  {
   "cell_type": "code",
   "execution_count": null,
   "metadata": {},
   "outputs": [],
   "source": [
    "Ncoils = 16 # modify this as necessary\n",
    "nfp = 2 # modify this as necessary\n",
    "currents = []\n",
    "names = []\n",
    "groups = []\n",
    "xx = [[]]; yy = [[]]; zz = [[]]\n",
    "for icoil in range(Ncoils):\n",
    "    filename = 'current-'+str(icoil)+'.txt'\n",
    "    xx.append([]); yy.append([]); zz.append([])\n",
    "    if not os.path.exists(filename) :\n",
    "        raise IOError (\"File not existed. Please check again!\")\n",
    "    with open(filename,'r') as currentfile:\n",
    "        currents.append(float(currentfile.readline()))\n",
    "    filename = 'coil-'+str(icoil)+'.txt'   \n",
    "    with open(filename,'r') as coilfile:\n",
    "        if not os.path.exists(filename) :\n",
    "            raise IOError (\"File not existed. Please check again!\")\n",
    "        for line in coilfile:\n",
    "            linelist = line.split()\n",
    "            xx[icoil].append(float(linelist[0]))\n",
    "            yy[icoil].append(float(linelist[1]))\n",
    "            zz[icoil].append(float(linelist[2]))\n",
    "xx.pop()\n",
    "yy.pop()\n",
    "zz.pop()\n",
    "            \n",
    "for icoil in range(Ncoils):\n",
    "    groups.append(icoil % int(Ncoils/(2*nfp)))\n",
    "    names.append('Mod_'+str(groups[icoil]))\n",
    "    \n",
    "coilObject = coils.Coil(xx,yy,zz,currents,names,groups)"
   ]
  },
  {
   "cell_type": "markdown",
   "metadata": {},
   "source": [
    "We can now plot the coilset"
   ]
  },
  {
   "cell_type": "code",
   "execution_count": null,
   "metadata": {},
   "outputs": [],
   "source": [
    "%matplotlib inline\n",
    "coilObject.plot(engine='pyplot')"
   ]
  },
  {
   "cell_type": "markdown",
   "metadata": {},
   "source": [
    "We now are going to produce a coils.\\* file needed to call the MAKEGRID code (https://princetonuniversity.github.io/STELLOPT/MAKEGRID.html)\n",
    "\n",
    "The MAKEGRID code calculates the vacuum magnetic field produced by the coilset on a cylindrical grid"
   ]
  },
  {
   "cell_type": "code",
   "execution_count": null,
   "metadata": {},
   "outputs": [],
   "source": [
    "coilObject.save_makegrid('coils.pyplasmaopt',nfp=2)"
   ]
  },
  {
   "cell_type": "markdown",
   "metadata": {},
   "source": [
    "Before we call the MAKEGRID code, we need to compute the range of the cylindrical grid required"
   ]
  },
  {
   "cell_type": "code",
   "execution_count": null,
   "metadata": {},
   "outputs": [],
   "source": [
    "R_arr = np.sqrt(np.array(xx)**2 + np.array(yy)**2)\n",
    "Z_arr = np.array(zz)\n",
    "R_min = np.min(R_arr)\n",
    "R_max = np.max(R_arr)\n",
    "Z_min = np.min(Z_arr)\n",
    "Z_max = np.max(Z_arr)\n",
    "print('Rmin = '+str(R_min))\n",
    "print('Rmax = '+str(R_max))\n",
    "print('Zmin = '+str(Z_min))\n",
    "print('Zmax = '+str(Z_max))"
   ]
  },
  {
   "cell_type": "markdown",
   "metadata": {},
   "source": [
    "We will now call the MAKEGRID code. \n",
    "\n",
    "1. Make a directory from which you will call MAKEGRID. This directory should contain \n",
    "    - the coils.\\* file you just produced\n",
    "    - an input_xgrid.dat file (a sample can be found in the makegrid directory)\n",
    "    - a script for execution (a sample can be found in the makegrid directory)\n",
    "\n",
    "2. Modify the input_xgrid.dat file with \n",
    "    - the correct coils.\\* suffix\n",
    "    - Rmin, Rmax, Zmin, Zmax\n",
    "\n",
    "3. Call makegrid using the script."
   ]
  },
  {
   "cell_type": "markdown",
   "metadata": {},
   "source": [
    "We now need to generate the initial guess of the boundary of the plasma to provide to VMEC. We will read in files produced from the pyplasmaopt code. "
   ]
  },
  {
   "cell_type": "code",
   "execution_count": null,
   "metadata": {},
   "outputs": [],
   "source": [
    "X = np.loadtxt('X.txt',delimiter=',')\n",
    "Y = np.loadtxt('Y.txt',delimiter=',')\n",
    "Z = np.loadtxt('Z.txt',delimiter=',')\n",
    "varphi = np.loadtxt('theta.txt',delimiter=',')\n",
    "theta = np.loadtxt('varphi.txt',delimiter=',')\n",
    "\n",
    "R = np.sqrt(X**2 + Y**2)\n",
    "\n",
    "# Compute cylindrical phi\n",
    "phi = np.arctan2(Y,X)\n",
    "phi[phi<0] = phi[phi<0]+2*np.pi"
   ]
  },
  {
   "cell_type": "markdown",
   "metadata": {},
   "source": [
    "These quantities are on a grid in the Boozer poloidal angle ($\\vartheta_B$) and toroidal angle ($\\varphi_B$). We will now compute the $R$ and $Z$ cylindrical components on a regular grid in the poloidal angle ($\\vartheta_B$) and cylindrical toroidal angle ($\\phi$) by interpolating."
   ]
  },
  {
   "cell_type": "code",
   "execution_count": null,
   "metadata": {},
   "outputs": [],
   "source": [
    "nphi = len(phi[0,:])\n",
    "ntheta = len(phi[:,0])\n",
    "phi_grid = np.linspace(0,2*np.pi,nphi+1)\n",
    "phi_grid = np.delete(phi_grid,-1,0)\n",
    "theta_grid = np.linspace(0,2*np.pi,ntheta+1)\n",
    "theta_grid = np.delete(theta_grid,-1,0)\n",
    "[phi_2d,theta_2d] = np.meshgrid(phi_grid,theta_grid)\n",
    "\n",
    "# Interpolate to get on regular phi grid \n",
    "R_interp = np.zeros(np.shape(R))\n",
    "Z_interp = np.zeros(np.shape(Z))\n",
    "for itheta in range(0,ntheta):\n",
    "    R_interp[itheta,:] = np.interp(phi_grid,phi[itheta,:],R[itheta,:],period=np.pi)\n",
    "    Z_interp[itheta,:] = np.interp(phi_grid,phi[itheta,:],Z[itheta,:],period=np.pi)\n",
    "X_interp = R_interp*np.cos(phi_2d)\n",
    "Y_interp = R_interp*np.sin(phi_2d)"
   ]
  },
  {
   "cell_type": "markdown",
   "metadata": {},
   "source": [
    "We now plot the resulting surface."
   ]
  },
  {
   "cell_type": "code",
   "execution_count": null,
   "metadata": {},
   "outputs": [],
   "source": [
    "import matplotlib.pyplot as plt\n",
    "from mpl_toolkits.mplot3d import Axes3D\n",
    "%matplotlib inline\n",
    "fig = plt.figure()\n",
    "ax = fig.add_subplot(111, projection='3d')\n",
    "ax.plot_surface(X_interp,Y_interp,Z_interp)"
   ]
  },
  {
   "cell_type": "markdown",
   "metadata": {},
   "source": [
    "We will now perform a Fourier transform, as we will need to provide the boundary harmonics ($R_{m,n}^c$ and $Z_{m,n}^s$) to VMEC.\n",
    "\n",
    "$R = \\sum_{m,n} R_{m,n}^c \\cos(m \\vartheta_B - n N_P \\phi) $ \\\n",
    "$Z = \\sum_{m,n} Z_{m,n}^s \\sin(m \\vartheta_B - n N_P \\phi) $\n",
    "\n",
    "Here $N_p$ is the number of field periods."
   ]
  },
  {
   "cell_type": "code",
   "execution_count": null,
   "metadata": {},
   "outputs": [],
   "source": [
    "mmax = 10 # Change as necessary\n",
    "nmax = 10 # Change as necessary\n",
    "# m = 0 modes\n",
    "[mnmax, xm, xn] = init_modes(mmax,nmax)\n",
    "\n",
    "rbc = np.zeros(mnmax)\n",
    "zbs = np.zeros(mnmax)\n",
    "for im in range(mnmax):\n",
    "    angle = xm[im]*theta_2d - nfp*xn[im]*phi_2d\n",
    "    rbc[im] = np.sum(np.cos(angle)*R_interp)/np.sum(np.cos(angle)**2)\n",
    "    if (im > 0):\n",
    "        zbs[im] = np.sum(np.sin(angle)*Z_interp)/np.sum(np.sin(angle)**2)\n",
    "# IFT to check\n",
    "R_ift = np.zeros(np.shape(theta_2d))\n",
    "Z_ift = np.zeros(np.shape(theta_2d))\n",
    "for im in range(mnmax):\n",
    "    angle = xm[im]*theta_2d - nfp*xn[im]*phi_2d\n",
    "    R_ift += np.cos(angle)*rbc[im]\n",
    "    Z_ift += np.sin(angle)*zbs[im]\n",
    "R_err = np.sum(np.abs(R_ift-R_interp))/np.sum(R_interp)\n",
    "Z_err = np.sum(np.abs(Z_ift-Z_interp))/np.sum(np.abs(Z_interp))\n",
    "print('Error in R FT: '+str(R_err))\n",
    "print('Error in Z FT: '+str(Z_err))"
   ]
  },
  {
   "cell_type": "markdown",
   "metadata": {},
   "source": [
    "We will print these boundary harmonics to a file (boundary.txt) "
   ]
  },
  {
   "cell_type": "code",
   "execution_count": null,
   "metadata": {},
   "outputs": [],
   "source": [
    "# Print boundary harmonics to a file\n",
    "f = open('boundary.txt','w')\n",
    "for im in range(mnmax):\n",
    "    if (abs(rbc[im])>1e-10):\n",
    "        f.write('rbc('+str(int(xn[im]))+','+str(int(xm[im]))+') = '+str(rbc[im])+'\\n')\n",
    "    if (abs(zbs[im])>1e-10):\n",
    "        f.write('zbs('+str(int(xn[im]))+','+str(int(xm[im]))+') = '+str(zbs[im])+'\\n')\n",
    "f.close()"
   ]
  },
  {
   "cell_type": "markdown",
   "metadata": {},
   "source": [
    "We will now estimate the toroidal flux through this surface, as this will be required to provide to VMEC,\n",
    "\n",
    "$\\Psi_T = \\int_{S_T} d^2 x \\, \\textbf{B} \\cdot \\nabla \\phi$,\n",
    "\n",
    "where $S_T$ is a surface at constant toroidal angle $\\phi$. \n",
    "\n",
    "<div>\n",
    "<img src=\"toroidal_flux_stel1.png\" width=\"400\"/>\n",
    "</div>\n",
    "\n",
    "In a vacuum field, the magnetic field can be expressed as \n",
    "\n",
    "$\\textbf{B} = G \\nabla \\varphi_B$, \n",
    "\n",
    "where \n",
    "\n",
    "$G = \\mu_0 I_{\\text{pol}}/(2\\pi)$\n",
    "\n",
    "and $I_{\\text{pol}}$ is the sum of the coil currents linking the plasma poloidally. We can estimate $\\textbf{B} \\approx G \\nabla \\phi$, where $\\phi$ is the cylindrical toroidal angle. As $|\\nabla \\phi|^2 = 1/R^2$, we can estimate $\\textbf{B} \\cdot \\nabla \\phi \\approx G/R_0^2$, where $R_0 = R_{00}^c$.\n",
    "\n",
    "The area of the toroidal cross-section is estimated to be $A \\approx \\pi a^2$, where $a = R_{1,0}^c$. Thus we estimate the toroidal flux to be,\n",
    "\n",
    "$\\Psi_T \\approx \\pi G a^2/R_0^2$.\n",
    "\n",
    "*Question for the interested student: can you compute a more accurate estimate of $\\Psi_T$?*"
   ]
  },
  {
   "cell_type": "code",
   "execution_count": null,
   "metadata": {},
   "outputs": [],
   "source": [
    "mu0 = 4*np.pi*10**(-7)\n",
    "I = np.sum(np.abs(currents))\n",
    "G = mu0*I/(2*np.pi)\n",
    "R0 = rbc[(xm==0) * (xn==0)][0]\n",
    "a = rbc[(xm==1) * (xn==0)][0]\n",
    "psi = np.pi*G*a*a/(R0*R0)\n",
    "print('Estimate of psi = ' + str(psi))"
   ]
  },
  {
   "cell_type": "markdown",
   "metadata": {},
   "source": [
    "The caluculated value for $\\Psi_T$ will be used as the input <code>PHIEDGE</code> for VMEC"
   ]
  },
  {
   "cell_type": "markdown",
   "metadata": {},
   "source": [
    "We are now going to call free-boundary VMEC. \n",
    "\n",
    "1. Make a directory from which you will call the code. This directory should contain\n",
    "    - The mgrid_\\*.nc file you just made\n",
    "    - an input.\\* file (a sample can be found in the vmec directory)\n",
    "    - a script (a sample can be found in the vmec directory)\n",
    "\n",
    "2. Modify the input.\\* file\n",
    "    - <code>PHIEDGE</code> should be set to the esimated toroidal flux \n",
    "    - <code>mgrid_file</code> should be set to the correct mgrid_\\*.nc file name\n",
    "    - replace <code>rbc(\\*,\\*)= ... </code> and <code>zbs(\\*,\\*) = ... </code> with the text in boundary.txt\n",
    "    \n",
    "There are many other input parameters, most of which you do not need to worry about. Documentation on free-boundary VMEC can be found at:\n",
    "https://princetonuniversity.github.io/STELLOPT/VMEC%20Free%20Boundary%20Run.html\n",
    "https://princetonuniversity.github.io/STELLOPT/VMEC\n",
    "\n",
    "3. Execute the code using script."
   ]
  },
  {
   "cell_type": "markdown",
   "metadata": {},
   "source": [
    "We will now compare the result of the VMEC calculation with the pyplasmaopt calculation. We first compute the rotational transform. "
   ]
  },
  {
   "cell_type": "code",
   "execution_count": null,
   "metadata": {},
   "outputs": [],
   "source": [
    "wout_filename = 'vmec/wout_pyplasmaopt.nc' # Change this as necessary\n",
    "vmecOutput = VmecOutput(wout_filename)\n",
    "\n",
    "# Compute iota on full mesh \n",
    "iota_half = vmecOutput.iota\n",
    "iota_full = np.zeros(vmecOutput.ns_half)\n",
    "iota_full[0:-1] = (vmecOutput.iota[0:-1]+vmecOutput.iota[1::])*0.5\n",
    "iota_full[-1] = 1.5*vmecOutput.iota[-1]-0.5*vmecOutput.iota[-2]\n",
    "\n",
    "iota_pyplasmaopt = np.loadtxt('iota.txt')\n",
    "\n",
    "%matplotlib inline\n",
    "plt.plot(vmecOutput.s_full[1::],iota_full)\n",
    "plt.axhline(iota_pyplasmaopt,linestyle='--')\n",
    "plt.xlabel('$\\Psi_T/\\Psi_T^{\\mathrm{edge}}$')\n",
    "plt.ylabel('$\\iota$')\n",
    "plt.legend(['VMEC','pyplasmaopt'])"
   ]
  },
  {
   "cell_type": "markdown",
   "metadata": {},
   "source": [
    "In order to compare with pyplasmaopt, we want to find the VMEC surface where $\\iota$ is closest to the result from pyplasmaopt"
   ]
  },
  {
   "cell_type": "code",
   "execution_count": null,
   "metadata": {},
   "outputs": [],
   "source": [
    "index = np.argmin((iota_full-iota_pyplasmaopt)**2)\n",
    "print('iota from VMEC = '+str(iota_full[index]))\n",
    "print('iota from pyplasmaopt = '+str(iota_pyplasmaopt))\n",
    "index += 1 # need to add 1 to account for axis"
   ]
  },
  {
   "cell_type": "markdown",
   "metadata": {},
   "source": [
    "*Question for the interested student: can you think of another way to find the correct surface in the VMEC equilibrium?*"
   ]
  },
  {
   "cell_type": "markdown",
   "metadata": {},
   "source": [
    "We will now compare the surfaces at this index."
   ]
  },
  {
   "cell_type": "code",
   "execution_count": null,
   "metadata": {},
   "outputs": [],
   "source": [
    "[X_vmec,Y_vmec,Z_vmec,R_vmec] = vmecOutput.compute_position(isurf=index,theta=theta_2d,zeta=phi_2d)\n",
    "\n",
    "fig = plt.figure()\n",
    "ax = fig.add_subplot(111, projection='3d')\n",
    "ax.plot_surface(X_interp,Y_interp,Z_interp)\n",
    "plt.title('pyplasmaopt')\n",
    "\n",
    "fig = plt.figure()\n",
    "ax = fig.add_subplot(111, projection='3d')\n",
    "ax.plot_surface(X_vmec,Y_vmec,Z_vmec)\n",
    "plt.title('vmec')\n",
    "\n",
    "for iphi in range(0,nphi,5):\n",
    "    plt.figure()\n",
    "    plt.plot(R_interp[:,iphi],Z_interp[:,iphi])\n",
    "    plt.plot(R_vmec[:,iphi],Z_vmec[:,iphi])\n",
    "    plt.xlabel('R')\n",
    "    plt.ylabel('Z')\n",
    "    plt.legend(['pyplasmaopt','VMEC'])"
   ]
  },
  {
   "cell_type": "markdown",
   "metadata": {},
   "source": [
    "We are now going to call the BOOZXFORM code to assess the quasisymmetry of this equilibrium.\n",
    "\n",
    "1. Make a directory from which you will call the code. This directory should contain\n",
    "    - The wout_\\*.nc file you just made\n",
    "    - an in_booz.\\* file (a sample can be found in the boozxform directory)\n",
    "    - a script file (a sample can be found in the boozxform directory)\n",
    "\n",
    "2. Modify the in_booz.\\* file with\n",
    "    - the file extension of wout_\\*.nc filename\n",
    "3. Execute the code using the script\n",
    "\n",
    "Further documentation of BOOZXFORM can be found at https://princetonuniversity.github.io/STELLOPT/BOOZ_XFORM"
   ]
  },
  {
   "cell_type": "markdown",
   "metadata": {},
   "source": [
    "We are now going to read the results of this calculation. The magnetic field is expressed as a Fourier series in Boozer coordinates ($\\vartheta_B$,$\\varphi_B$),\n",
    "\n",
    "$B = \\sum_{m,n} B_{m,n} \\cos(m\\vartheta_B -n N_P \\varphi_B)$.\n",
    "\n",
    "This plot will distinguish the magnitude of different classes of modes. As quasi-axisymmetry was optimized with the pyplasmaopt code, the magnitude of the $n=0$ modes should dominate the other modes."
   ]
  },
  {
   "cell_type": "code",
   "execution_count": null,
   "metadata": {},
   "outputs": [],
   "source": [
    "max_m = 10 # maximum poloidal mode number to plot\n",
    "max_n = 10 # maximum toroidal mode number to plot\n",
    "filename = 'boozxform/boozmn_pyplasmaopt.nc'\n",
    "\n",
    "from scipy.io import netcdf\n",
    "import numpy as np\n",
    "import matplotlib.pyplot as plt\n",
    "%matplotlib inline\n",
    "\n",
    "f = netcdf.netcdf_file(filename,mode='r',mmap=False)\n",
    "\n",
    "phi_b = f.variables['phi_b'][()]\n",
    "ns_b = f.variables['ns_b'][()]\n",
    "nfp_b = f.variables['nfp_b'][()]\n",
    "ixn_b = f.variables['ixn_b'][()]\n",
    "ixm_b = f.variables['ixm_b'][()]\n",
    "bmnc_b = f.variables['bmnc_b'][()]\n",
    "jlist = f.variables['jlist'][()]\n",
    "f.close()\n",
    "nmodes = len(ixn_b)\n",
    "\n",
    "fig = plt.figure()\n",
    "\n",
    "s = (jlist-1.5)/(ns_b-1.0)\n",
    "\n",
    "backgroundColor='b'\n",
    "QAColor=[0,0.7,0]\n",
    "mirrorColor=[0.7,0.5,0]\n",
    "helicalColor=[1,0,1]\n",
    "\n",
    "scale_factor = np.max(np.abs(bmnc_b))\n",
    "\n",
    "# First, plot just the 1st mode of each type, so the legend looks nice.\n",
    "\n",
    "for imode in range(nmodes):\n",
    "    if ixn_b[imode]==0 and ixm_b[imode]==0:\n",
    "        plt.semilogy(s,abs(bmnc_b[:,imode])/scale_factor, color=backgroundColor,label='m = 0, n = 0 (Background)')\n",
    "        break\n",
    "for imode in range(nmodes):\n",
    "    if ixn_b[imode]==0 and ixm_b[imode]!=0:\n",
    "        plt.semilogy(s,abs(bmnc_b[:,imode])/scale_factor, color=QAColor,label=r'm $\\ne$ 0, n = 0 (Quasiaxisymmetric)')\n",
    "        break\n",
    "for imode in range(nmodes):\n",
    "    if ixn_b[imode]!=0 and ixm_b[imode]==0:\n",
    "        plt.semilogy(s,abs(bmnc_b[:,imode])/scale_factor, color=mirrorColor,label=r'm = 0, n $\\ne$ 0 (Mirror)')\n",
    "        break\n",
    "for imode in range(nmodes):\n",
    "    if ixn_b[imode]!=0 and ixm_b[imode]!=0:\n",
    "        plt.semilogy(s,abs(bmnc_b[:,imode])/scale_factor, color=helicalColor,label=r'm $\\ne$ 0, n $\\ne$ 0 (Helical)')\n",
    "        break\n",
    "plt.legend(fontsize=9,loc=2)\n",
    "for imode in range(nmodes):\n",
    "    if np.abs(ixm_b[imode]) > max_m:\n",
    "        continue\n",
    "    if np.abs(ixn_b[imode]) > max_n * nfp_b:\n",
    "        continue\n",
    "    if ixn_b[imode]==0:\n",
    "        if ixm_b[imode]==0:\n",
    "            mycolor = backgroundColor\n",
    "        else:\n",
    "            mycolor = QAColor\n",
    "    else:\n",
    "        if ixm_b[imode]==0:\n",
    "            mycolor = mirrorColor\n",
    "        else:\n",
    "            mycolor = helicalColor\n",
    "    plt.semilogy(s,abs(bmnc_b[:,imode])/scale_factor, color=mycolor)\n",
    "\n",
    "plt.xlabel('Normalized toroidal flux')\n",
    "plt.title('Fourier harmonics of |B| in Boozer coordinates')\n",
    "plt.ylim([1e-5,1.2])\n",
    "\n",
    "plt.subplots_adjust(top=0.9,bottom=0.14,left=0.09,right=0.94)\n",
    "\n",
    "plt.show()"
   ]
  },
  {
   "cell_type": "markdown",
   "metadata": {},
   "source": [
    "We will now quantify the degree of quasisymmetry by summing over all of the non-QA modes and normalizing by a sum over all of the modes,\n",
    "\n",
    "$f_{QA} = \\sqrt{\\frac{\\sum_{m,n\\ne 0} B_{m,n}^2}{\\sum_{m,n} B_{m,n}^2}}$"
   ]
  },
  {
   "cell_type": "code",
   "execution_count": null,
   "metadata": {},
   "outputs": [],
   "source": [
    "QA_metric = np.zeros(len(jlist))\n",
    "for index in range(len(jlist)):\n",
    "    summed_total = 0\n",
    "    summed_nonQA = 0\n",
    "    for imode in range(nmodes):\n",
    "        if ixn_b[imode]!=0:\n",
    "            summed_nonQA += bmnc_b[index,imode]**2\n",
    "        summed_total += bmnc_b[index,imode]**2\n",
    "    # Normalize by total sum\n",
    "    QA_metric[index] = np.sqrt(summed_nonQA/summed_total)\n",
    "    \n",
    "plt.plot(s,QA_metric)\n",
    "plt.xlabel('s')\n",
    "plt.ylabel('QA metric')"
   ]
  },
  {
   "cell_type": "markdown",
   "metadata": {},
   "source": [
    "*Question for the interested student: how would you modify the above code section to evaluate quasi-helical symmetry? Quasi-poloidal symmetry?*"
   ]
  },
  {
   "cell_type": "markdown",
   "metadata": {},
   "source": [
    "**Conclusions and further activities:**\n",
    "1.  How did the rotational transform, quasisymmetry error, and surface shape compare with that computed from pyplasmaopt?\n",
    "2.  This coil set was optimized to provide quasisymmetry near the axis with a vacuum field model, and you have evaluated the VMEC equilibrium without a prescribed pressure or current profile such that a vacuum field is also assumed. Try modifying the VMEC equilibrium by imposing a pressure and current profile. This is set by the AM and AC input quantities, which specify a power series form for the pressure, $p(s)$, and toroidal current, $I_T(s)$, as a function of the normalized flux, $s = \\Psi_T/\\Psi_T^{\\mathrm{edge}}$,\n",
    "\n",
    "$$p(s) = \\sum_i AM(i) s^i $$\n",
    "\n",
    "$$I_T'(s) = \\sum_i AC(i) s^i .$$\n",
    "\n",
    "Make sure that <code>pcurr_type = 'power_series'</code> and <code>pmass_type = 'power_series'</code> in your input file. \n",
    "\n",
    "For example, you could consider the profiles that were used in the optimized NCSX equilibrium:\n",
    "\n",
    "<code>AM = 7.3408E+04 -5.4830E+03 -3.8712E+04 -5.0786E+05  1.9155E+06 -3.4429E+06  2.8810E+06 -8.7493E+05 </code>\n",
    "\n",
    "<code>AC = 8183.956999999995 1436035.600000001 -10740714. 74438920.  -322215650. 881050800. -1493896600. 1527468000. -867901590. 210351200</code> \n",
    "\n",
    "The magnitude of these profiles are scaled up and down by the <code>pres_scale</code> and <code>curtor</code> parameters, which are set to \n",
    "\n",
    "<code>pres_scale = 1</code>\n",
    "\n",
    "<code>curtor =  -1.7425E+05</code>\n",
    "\n",
    "in the NCSX equilibrium.\n",
    "\n",
    "How does the addition of pressure and current modify the rotational transform and quasisymmetry? How good is the vacuum approximation?\n",
    "\n",
    "3.  Now that you have a VMEC equilibrium, you can evaluate other quantities discussed in yesterday's STELLOPT introduction activity, such as $\\epsilon_{\\text{eff}}$. How deos $\\epsilon_{\\text{eff}}$ correlate with quasisymmetry as a function of flux?"
   ]
  }
 ],
 "metadata": {
  "kernelspec": {
   "display_name": "Python 3",
   "language": "python",
   "name": "python3"
  },
  "language_info": {
   "codemirror_mode": {
    "name": "ipython",
    "version": 3
   },
   "file_extension": ".py",
   "mimetype": "text/x-python",
   "name": "python",
   "nbconvert_exporter": "python",
   "pygments_lexer": "ipython3",
   "version": "3.8.3"
  }
 },
 "nbformat": 4,
 "nbformat_minor": 4
}
