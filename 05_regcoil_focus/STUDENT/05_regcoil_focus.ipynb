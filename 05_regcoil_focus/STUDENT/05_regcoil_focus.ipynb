{
 "cells": [
  {
   "cell_type": "markdown",
   "metadata": {},
   "source": [
    "Prepared by Elizabeth Paul for Group 5 at the 2020 Simons/PPPL Summer School on Stellarator Optimization\n",
    "https://hiddensymmetries.princeton.edu/summer-school/summer-school-2020/overview"
   ]
  },
  {
   "cell_type": "markdown",
   "metadata": {},
   "source": [
    "This notebook will use matplotlib (https://matplotlib.org/) for plotting \n",
    "\n",
    "If you would like your figures to appear inline, include the following line at the top of your cell \\\n",
    "%matplotlib inline \\\n",
    "If you would like your figures to appear in a window \\\n",
    "%matplotlib notebook"
   ]
  },
  {
   "cell_type": "markdown",
   "metadata": {},
   "source": [
    "In this lab, we will perform coil optimization for the HSX configuration using the REGCOIL and FOCUS codes. We can compare the results and assess the performance of each coil set by computing a free-boundary VMEC equilibria. \n",
    "\n",
    "We will begin by running the FOCUS code using the sample provided in the focus_hsx directory. This directory contains\n",
    "- A sample input file (hsx.input)\n",
    "- The input plasma boundary (plasma.boundary)\n",
    "- A sample script for executing the job (script)\n",
    "- The input coil set (hsx.focus)\n",
    "\n",
    "This calculations initializes the optimization of a coil set using the actual HSX coil shapes in order to minimize the normal field error on the target plasma boundary. If desired, the input parameters can be adjusted (details provided in https://princetonuniversity.github.io/FOCUS/initial.pdf). Detailed documentation of the FOCUS code is provided at (https://princetonuniversity.github.io/FOCUS/). \n",
    "\n",
    "The objective function minimized by this example is given by\n",
    "\n",
    "$f = w_B f_B + w_{\\Psi}f_{\\Psi} + w_L f_L + w_{\\kappa} f_{\\kappa}$\n",
    "\n",
    "where \n",
    "- $f_B=\\frac{1}{2}\\int_{S_P} d^2 x \\, \\left(\\textbf{B} \\cdot \\hat{\\textbf{n}} \\right)^2$ is an objective which targets the normal field error on the target plasma boundary\n",
    "- $f_{\\Psi}=\\frac{1}{4\\pi} \\int d \\phi \\, \\left(\\frac{\\Psi(\\phi)-\\Psi_0}{\\Psi_0} \\right)^2$ is an objective which targets a prescribed toroidal flux, $\\Psi_0$ through a toroidal cross-section at each toroidal angle $\\phi$. Here the toroidal flux is defined as $\\Psi = \\int_{S_T} d^2 x \\, \\textbf{B} \\cdot \\hat{\\textbf{n}}$, where $S_T$ is a surface bounded by the plasma surface on the plane $\\phi = $const.\n",
    "<div>\n",
    "<img src=\"toroidal_flux_stel1.png\" width=\"400\"/>\n",
    "</div>\n",
    "The value of $\\Psi_0$ is set to the initial average toroidal flux.\n",
    "- $f_L = \\frac{1}{2 N_C} \\sum_{i=1}^{N_C} \\frac{(L_i-L_{i,0})^2}{L_{i,0}^2}$ is an objective which targets the coil length, where $N_C$ is the number of coils and $L_{i,0}$ is the target length, set to be the initial length.\n",
    "- $f_{\\kappa} = \\frac{1}{N_C}\\sum_{i=1}^{N_C} \\oint dl \\, \\left(\\kappa(l) - \\kappa_0 \\right)^{\\alpha} \\Theta(\\kappa(l) - \\kappa_0) $ is an objective which targets the coil curvature. Here $\\kappa_0$ is a user-specified value (k0) which represents the largest desirable value of curvature, and $\\alpha\\ge2$ is a a user-specified value (curv_alpha) which determines the steepness of the objective.\n",
    "\n",
    "The $w_i$ are user-specified weights. The weights are controlled by the input parameters \n",
    "- weight_bnorm\n",
    "- weight_tflux\n",
    "- weight_ttlen\n",
    "- weight_curv"
   ]
  },
  {
   "cell_type": "markdown",
   "metadata": {},
   "source": [
    "To execute the FOCUS code, perform the following steps.\n",
    "- Make a directory from which you would like to run the code.\n",
    "- Copy the files contained in the focus_hsx directory into your new directory.\n",
    "- Edit the input file as desired.\n",
    "- Execute the code using the script."
   ]
  },
  {
   "cell_type": "markdown",
   "metadata": {},
   "source": [
    "We will use the Coilpy tools from https://zhucaoxiang.github.io/CoilPy/ to perform some analysis. We will begin by importing various things."
   ]
  },
  {
   "cell_type": "code",
   "execution_count": null,
   "metadata": {},
   "outputs": [],
   "source": [
    "import numpy as np\n",
    "from cutCoilsFromRegcoil import *\n",
    "from simsopt.modules.vmec.output import VmecOutput\n",
    "import matplotlib.pyplot as plt"
   ]
  },
  {
   "cell_type": "markdown",
   "metadata": {},
   "source": [
    "We now plot the plasma boundary we are optimizing for"
   ]
  },
  {
   "cell_type": "code",
   "execution_count": null,
   "metadata": {},
   "outputs": [],
   "source": [
    "from coilpy.surface import FourSurf\n",
    "plasma = FourSurf.read_focus_input('focus_hsx/plasma.boundary');\n",
    "[xx, yy, zz, nn] = plasma.plot3d(engine='pyplot')"
   ]
  },
  {
   "cell_type": "markdown",
   "metadata": {},
   "source": [
    "We now will now plot the convergence of each of the terms in the objective function."
   ]
  },
  {
   "cell_type": "code",
   "execution_count": null,
   "metadata": {},
   "outputs": [],
   "source": [
    "from coilpy.focushdf5 import FOCUSHDF5\n",
    "output = FOCUSHDF5('focus_hsx/focus_hsx.h5')\n",
    "output.convergence(term='all')\n",
    "plt.legend(loc=4)\n",
    "plt.show()"
   ]
  },
  {
   "cell_type": "markdown",
   "metadata": {},
   "source": [
    "We can also plot the residual normal field on the target plasma boundary. "
   ]
  },
  {
   "cell_type": "code",
   "execution_count": null,
   "metadata": {},
   "outputs": [],
   "source": [
    "output.Bnorm(source='coil')"
   ]
  },
  {
   "cell_type": "markdown",
   "metadata": {},
   "source": [
    "We can now compute the REGCOIL solution using the sample provided in the regcoil_hsx directory. To run this FORTRAN code, we will use the sample files provided in the regcoil_hsx directory. This directory contains:\n",
    "- The winding surface on which the current potential solution will lie (nescin.hsx). This is the actual winding surface of the HSX experiment.\n",
    "- The equilibrium file containing the target plasma boundary (wout_hsx.nc).\n",
    "- The REGCOIL input file (regcoil_in.hsx). If desired by the user, the input parameters can be modified using the documentation (regcoilManual.pdf) contained in this directory.\n",
    "- A sample script for executing the code (script) \n",
    "\n",
    "The REGCOIL calculation is performed assuming that all of the currents in the vacuum region lie on a winding surface, which is taken to be a surface on which the actual HSX coils lie. A continuous current density is supported on the winding surface ($S_C$),\n",
    "\n",
    "$\\textbf{K} = \\hat{\\textbf{n}} \\times \\nabla \\Phi$,\n",
    "\n",
    "where $\\Phi$ is the current potential. The current potential is chosen to minimize an objective function,\n",
    "\n",
    "$\\chi^2 = \\chi^2_B + \\lambda \\chi^2_K$,\n",
    "\n",
    "where \n",
    "\n",
    "- $\\chi^2_B = \\int_{S_P} d^2 x \\, \\textbf{B} \\cdot \\hat{\\textbf{n}}$ is an objective which targets the normal magnetic field on the target plasma boundary ($S_P$)\n",
    "- $\\chi^2_K = \\int_{S_C} d^2 x \\, |\\textbf{K}|^2$ is an objective which targets the coil complexity\n",
    "- $\\lambda$ is a regularization parameter. \n",
    "\n",
    "In the sample input file, the regularization parameter is set such that the the following equality is satisfied\n",
    "\n",
    "$ \\sqrt{\\chi^2_K/\\int_{S_C} d^2 x} = \\text{target_value}$.\n",
    "\n",
    "The user can adjust the tradeoff between coil complexity and normal field error using this parameter.\n",
    "\n",
    "Once the current potential is optimized, the coils shapes are chosen to be a set of contours of $\\Phi$. "
   ]
  },
  {
   "cell_type": "markdown",
   "metadata": {},
   "source": [
    "The REGCOIL code can be called with the following steps.\n",
    "\n",
    "1. Make a directory from which you would like to execute the code.\n",
    "2. Copy the contents of regcoil_hsx into your new directory.\n",
    "3. Edit the input file as desired.\n",
    "4. Execute using the script."
   ]
  },
  {
   "cell_type": "markdown",
   "metadata": {},
   "source": [
    "We can now plot features of the REGCOIL solution using the regcoilPlot script contained in this directory."
   ]
  },
  {
   "cell_type": "code",
   "execution_count": null,
   "metadata": {},
   "outputs": [],
   "source": [
    "from regcoilPlot import *\n",
    "regcoilPlot('regcoil_hsx/regcoil_out.hsx.nc') # modify as necessary"
   ]
  },
  {
   "cell_type": "markdown",
   "metadata": {},
   "source": [
    "The script cutCoilsFromRegcoil.py displays the contours for the coil shapes. In the example below, we are asking for 6 coils per half period to match the number of coils in the HSX experiment. This script will produce a file named coils.\\*, where the extentension matches that of the regcoil_out.\\*.nc provided."
   ]
  },
  {
   "cell_type": "code",
   "execution_count": null,
   "metadata": {},
   "outputs": [],
   "source": [
    "from cutCoilsFromRegcoil import *\n",
    "filename = 'regcoil_hsx/regcoil_out.hsx.nc' # modify as necessary\n",
    "nescinFilename = 'regcoil_hsx/nescin.hsx' # modify as necessary\n",
    "coilsPerHalfPeriod = 6\n",
    "thetaShift = 0 # Only change this parameter if the script has difficulty finding the contours\n",
    "ilambda = -1 # Changes which regularization parameter to use for comparison\n",
    "cutCoilsFromRegcoil(filename,nescinFilename,coilsPerHalfPeriod,thetaShift,ilambda)"
   ]
  },
  {
   "cell_type": "markdown",
   "metadata": {},
   "source": [
    "We will now compare the coils obtained from REGCOIL and FOCUS. We will also plot the actual filamentary HSX coils."
   ]
  },
  {
   "cell_type": "code",
   "execution_count": null,
   "metadata": {},
   "outputs": [],
   "source": [
    "from coilpy.coils import Coil\n",
    "import matplotlib.pyplot as plt\n",
    "\n",
    "coilObject_regcoil = Coil.read_makegrid('coils.hsx') # This should point to coils.* file produced from the cutCoilsFromRegcoil script\n",
    "coilObject_focus = Coil.read_makegrid('focus_hsx/hsx.coils') # This should point to the *.coils file produced from FOCUS\n",
    "coilObject_hsx = Coil.read_makegrid('coils.hsx_actual') # This file is provided in this directory (actual coil set)\n",
    "nfp = 4\n",
    "ncoils = coilObject_hsx.num\n",
    "i = 0 \n",
    "for this_focus in coilObject_focus:\n",
    "    if i in range(0,int(ncoils),int(2*nfp)):\n",
    "        if i == 0:\n",
    "            this_focus.plot(engine='pyplot',color='blue',label='FOCUS')\n",
    "        else:\n",
    "            this_focus.plot(engine='pyplot',color='blue')\n",
    "    i += 1\n",
    "i = 0 \n",
    "for this_hsx in coilObject_hsx:\n",
    "    if i in range(0,6):\n",
    "        if i == 0:\n",
    "            this_hsx.plot(engine='pyplot',color='green',label='Actual')\n",
    "        else:\n",
    "            this_hsx.plot(engine='pyplot',color='green')\n",
    "    i += 1\n",
    "i = 0 \n",
    "for this_regcoil in coilObject_regcoil:\n",
    "    if i in range(0,int(ncoils/2),int(nfp)):\n",
    "        if i == 0:\n",
    "            this_regcoil.plot(engine='pyplot',color='red',label='REGCOIL')\n",
    "        else:\n",
    "            this_regcoil.plot(engine='pyplot',color='red')\n",
    "    i += 1\n",
    "plt.legend()"
   ]
  },
  {
   "cell_type": "markdown",
   "metadata": {},
   "source": [
    "As REGCOIL computes the normal field on the target plasma boundary from a continuos current sheet, we will now compute the corresponding normal field from the filamentary coils cut from the current potential. We will compare this with the normal field obtained from the actual HSX coil set and the coils obtained from FOCUS."
   ]
  },
  {
   "cell_type": "markdown",
   "metadata": {},
   "source": [
    "We first read in the desired boundary on which we compute the normal field error"
   ]
  },
  {
   "cell_type": "code",
   "execution_count": null,
   "metadata": {},
   "outputs": [],
   "source": [
    "from coilpy.surface import FourSurf\n",
    "regcoilSurf = FourSurf.read_vmec_output('regcoil_hsx/wout_hsx.nc') # modify as necessary"
   ]
  },
  {
   "cell_type": "markdown",
   "metadata": {},
   "source": [
    "We now compute the normal vector on a uniform grid on this surface"
   ]
  },
  {
   "cell_type": "code",
   "execution_count": null,
   "metadata": {},
   "outputs": [],
   "source": [
    "import numpy as np\n",
    "ntheta = 50 # number of poloidal grid points \n",
    "nzeta = 50 # number of toroidal grid points\n",
    "\n",
    "thetas = np.linspace(0,2*np.pi,ntheta)\n",
    "zetas = np.linspace(0,2*np.pi,nzeta)\n",
    "[thetas_2d,zetas_2d] = np.meshgrid(thetas,zetas)\n",
    "\n",
    "# Compute normal vector\n",
    "[x,y,z,n] = regcoilSurf.xyz(theta=thetas_2d,zeta=zetas_2d,normal=True)\n",
    "x = np.reshape(x,np.shape(thetas_2d))\n",
    "y = np.reshape(y,np.shape(thetas_2d))\n",
    "z = np.reshape(z,np.shape(thetas_2d))\n",
    "\n",
    "norm_n = np.sqrt(n[:,0]**2 + n[:,1]**2 + n[:,2]**2)\n",
    "nx = np.reshape(n[:,0]/norm_n,np.shape(thetas_2d))\n",
    "ny = np.reshape(n[:,1]/norm_n,np.shape(thetas_2d))\n",
    "nz = np.reshape(n[:,2]/norm_n,np.shape(thetas_2d))"
   ]
  },
  {
   "cell_type": "markdown",
   "metadata": {},
   "source": [
    "Now we compute the magnetic field from the 3 coil sets on this grid. This might take some time. "
   ]
  },
  {
   "cell_type": "code",
   "execution_count": null,
   "metadata": {},
   "outputs": [],
   "source": [
    "# Compute magnetic field\n",
    "B_regcoil = np.zeros((3,nzeta,ntheta))\n",
    "B_focus = np.zeros((3,nzeta,ntheta))\n",
    "B_hsx = np.zeros((3,nzeta,ntheta))\n",
    "for itheta in range(ntheta):\n",
    "    for izeta in range(nzeta):\n",
    "        pos = [x[izeta,itheta],y[izeta,itheta],z[izeta,itheta]]\n",
    "        for this_coil in coilObject_regcoil:\n",
    "            this_coil.fourier_tangent()\n",
    "            B_regcoil[:,izeta,itheta] += this_coil.bfield(pos)\n",
    "        for this_coil in coilObject_focus:\n",
    "            this_coil.fourier_tangent()\n",
    "            B_focus[:,izeta,itheta] += this_coil.bfield(pos)\n",
    "        for this_coil in coilObject_hsx:\n",
    "            this_coil.fourier_tangent()\n",
    "            B_hsx[:,izeta,itheta] += this_coil.bfield(pos)\n",
    "            \n",
    "Bn_regcoil = nx*B_regcoil[0,:,:] + ny*B_regcoil[1,:,:] + nz*B_regcoil[2,:,:]\n",
    "Bn_focus = nx*B_focus[0,:,:] + ny*B_focus[1,:,:] + nz*B_focus[2,:,:]\n",
    "Bn_hsx = nx*B_hsx[0,:,:] + ny*B_hsx[1,:,:] + nz*B_hsx[2,:,:]"
   ]
  },
  {
   "cell_type": "markdown",
   "metadata": {},
   "source": [
    "We now plot the results"
   ]
  },
  {
   "cell_type": "code",
   "execution_count": null,
   "metadata": {},
   "outputs": [],
   "source": [
    "%matplotlib inline\n",
    "\n",
    "plt.rc('text', usetex=True)\n",
    "plt.title(r'$\\textbf{B} \\cdot \\hat{\\textbf{n}}$ (HSX)')\n",
    "plt.contourf(zetas,thetas,Bn_hsx.T,50)\n",
    "plt.xlabel(r'$\\zeta$')\n",
    "plt.ylabel(r'$\\theta$')\n",
    "plt.colorbar()\n",
    "\n",
    "plt.figure()\n",
    "plt.title(r'$\\textbf{B} \\cdot \\hat{\\textbf{n}}$ REGCOIL')\n",
    "plt.contourf(zetas,thetas,Bn_regcoil.T,50)\n",
    "plt.xlabel(r'$\\zeta$')\n",
    "plt.ylabel(r'$\\theta$')\n",
    "plt.colorbar()\n",
    "\n",
    "plt.figure()\n",
    "plt.title(r'$\\textbf{B} \\cdot \\hat{\\textbf{n}}$ FOCUS')\n",
    "plt.contourf(zetas,thetas,Bn_focus.T,50)\n",
    "plt.xlabel(r'$\\zeta$')\n",
    "plt.ylabel(r'$\\theta$')\n",
    "plt.colorbar()"
   ]
  },
  {
   "cell_type": "markdown",
   "metadata": {},
   "source": [
    "We will now call free-boundary VMEC to assess the performance of these coil sets in more detail. Before we call VMEC, we must call the MAKEGRID code, which evaluates the vacuum field from the coils on a cylindrical grid. \n",
    "\n",
    "In order to call the MAKEGRID code, we need to compute the range of the cylindrical grid required.\n",
    "\n",
    "We will demonstrate this for the coils obtained from REGCOIL"
   ]
  },
  {
   "cell_type": "code",
   "execution_count": null,
   "metadata": {},
   "outputs": [],
   "source": [
    "i = 0\n",
    "for this_coil in coilObject_regcoil:\n",
    "    this_R = np.sqrt(this_coil.x**2 + this_coil.y**2)\n",
    "    this_Z = this_coil.z\n",
    "    this_R_min = np.min(this_R)\n",
    "    this_R_max = np.max(this_R)\n",
    "    this_Z_min = np.min(this_Z)\n",
    "    this_Z_max = np.max(this_Z)\n",
    "    if (i == 0):\n",
    "        R_min = this_R_min\n",
    "        R_max = this_R_max\n",
    "        Z_min = this_Z_min\n",
    "        Z_max = this_Z_max\n",
    "    else:\n",
    "        R_min = min(this_R_min,R_min)\n",
    "        R_max = max(this_R_max,R_max)\n",
    "        Z_min = min(this_Z_min,Z_min)\n",
    "        Z_max = max(this_Z_max,Z_max)\n",
    "    i += 1\n",
    "\n",
    "print('Rmin = '+str(R_min))\n",
    "print('Rmax = '+str(R_max))\n",
    "print('Zmin = '+str(Z_min))\n",
    "print('Zmax = '+str(Z_max))"
   ]
  },
  {
   "cell_type": "markdown",
   "metadata": {},
   "source": [
    "Once you have the range of the cylindrical grid, MAKEGRID can be called with the following steps.\n",
    "\n",
    "1. Make a directory from which you will call MAKEGRID.\n",
    "2. Copy sample files from mgrid_regcoil (input_xgrid.dat and script) as well as the coils.* file produced from REGCOIL.\n",
    "3. Edit input_xgrid.dat with the correct range of your cylindrical grid and the name of the coils.* file.\n",
    "4. Execute MAKEGRID using the script file.\n",
    "\n",
    "This will produce an output netcdf file called mgrid_\\*.nc as well as a file with the magnitudes of the currents in your coils, called extcur.\\*."
   ]
  },
  {
   "cell_type": "markdown",
   "metadata": {},
   "source": [
    "Once you have called MAKEGRID, we will use the mgrid_\\*.nc file to call free-boundary VMEC with the following steps.\n",
    "\n",
    "1. Make a directory from which you will call VMEC.\n",
    "2. Copy sample files from vmec_regcoil (input.hsx and script) as well as the mgrid_\\*.nc file produced from MAKEGRID.\n",
    "3. Edit the input file with the name of your mgrid_\\*.nc file. Copy the values of the external currents from extcur.* into your input file.\n",
    "4. Execute VMEC using the script."
   ]
  },
  {
   "cell_type": "markdown",
   "metadata": {},
   "source": [
    "The above procedure can be repeated using the coils file produced from FOCUS"
   ]
  },
  {
   "cell_type": "markdown",
   "metadata": {},
   "source": [
    "We can evaluate the VMEC solution using the vmecPlot script provided in this directory."
   ]
  },
  {
   "cell_type": "code",
   "execution_count": null,
   "metadata": {},
   "outputs": [],
   "source": [
    "from vmecPlot import *\n",
    "%matplotlib inline\n",
    "vmecPlot('vmec_regcoil/wout_hsx.nc') # modify as necessary"
   ]
  },
  {
   "cell_type": "markdown",
   "metadata": {},
   "source": [
    "From the free-boundary equilibria, we compare with the desired fixed-boundary equilibrium. "
   ]
  },
  {
   "cell_type": "code",
   "execution_count": null,
   "metadata": {},
   "outputs": [],
   "source": [
    "from simsopt.modules.vmec.output import VmecOutput\n",
    "vmec_regcoil = VmecOutput('vmec_regcoil/wout_hsx.nc') # modify as necessary\n",
    "vmec_target = VmecOutput('regcoil_hsx/wout_hsx.nc') # modify as necessary\n",
    "vmec_focus = VmecOutput('vmec_focus/wout_hsx.nc') # modify as necessary\n",
    "\n",
    "[X_target,Y_target,Z_target,R_target] = vmec_target.compute_position()\n",
    "[X_regcoil,Y_regcoil,Z_regcoil,R_regcoil] = vmec_regcoil.compute_position()\n",
    "[X_focus,Y_focus,Z_focus,R_focus] = vmec_focus.compute_position()\n",
    "\n",
    "for iphi in range(0,vmec_target.nzeta,5):\n",
    "    plt.figure()\n",
    "    plt.plot(R_target[:,iphi],Z_target[:,iphi])\n",
    "    plt.plot(R_regcoil[:,iphi],Z_regcoil[:,iphi])\n",
    "    plt.plot(R_focus[:,iphi],Z_focus[:,iphi])\n",
    "    plt.xlabel('R')\n",
    "    plt.ylabel('Z')\n",
    "    plt.legend(['Target','REGCOIL','FOCUS'])"
   ]
  },
  {
   "cell_type": "markdown",
   "metadata": {},
   "source": [
    "We can also compute the quasi-symmetry properties of the coil sets using the BOOZXFORM code, which performs the Boozer coordinate transformation. This will provide the Fourier harmonics of the magnetic field strength on a surface in Boozer coordinates,\n",
    "\n",
    "$B = \\sum_{m,n} B_{m,n} \\cos(m \\vartheta_B - n \\zeta_B)$,\n",
    "\n",
    "where $\\vartheta_B$ and $\\zeta_B$ are the Boozer poloidal and toroidal angles, respectively."
   ]
  },
  {
   "cell_type": "markdown",
   "metadata": {},
   "source": [
    "To call the BOOZXFORM code, we will perform the following steps\n",
    "\n",
    "1. Create a directory from which you would like to call BOOZXFORM.\n",
    "2. Copy the sample files from boozxform_regcoil (in_booz.hsx and script). \n",
    "3. Copy the VMEC output file (wout_\\*.nc) into this directory. Edit the input file to reflect the file extension of your output file.\n",
    "4. Execute the code using the provided script."
   ]
  },
  {
   "cell_type": "markdown",
   "metadata": {},
   "source": [
    "The output of the BOOZXFORM code can be analyzed with the following code. \n",
    "\n",
    "The following code plots the field strength in Boozer coordinates. The black line shows a curve along which $\\zeta_B = N_P \\vartheta_B$, where $N_P$ is the number of field periods. You should see that the field strength is approximately constant along lines with this slope due to the helical quasisymmetry of HSX."
   ]
  },
  {
   "cell_type": "code",
   "execution_count": null,
   "metadata": {},
   "outputs": [],
   "source": [
    "max_m = 10 # maximum poloidal mode number to plot\n",
    "max_n = 10 # maximum toroidal mode number to plot\n",
    "filename = 'boozxform_regcoil/boozmn_hsx.nc' # boozxform output file \n",
    "\n",
    "from scipy.io import netcdf\n",
    "import numpy as np\n",
    "import matplotlib.pyplot as plt\n",
    "%matplotlib inline\n",
    "\n",
    "f = netcdf.netcdf_file(filename,mode='r',mmap=False)\n",
    "\n",
    "phi_b = f.variables['phi_b'][()]\n",
    "ns_b = f.variables['ns_b'][()]\n",
    "nfp_b = f.variables['nfp_b'][()]\n",
    "ixn_b = f.variables['ixn_b'][()]\n",
    "ixm_b = f.variables['ixm_b'][()]\n",
    "bmnc_b = f.variables['bmnc_b'][()]\n",
    "jlist = f.variables['jlist'][()]\n",
    "f.close()\n",
    "nmodes = len(ixn_b)\n",
    "\n",
    "ntheta = 50 # number of poloidal grid points \n",
    "nzeta = 50 # number of toroidal grid points\n",
    "\n",
    "thetas = np.linspace(0,2*np.pi,ntheta)\n",
    "zetas = np.linspace(0,2*np.pi,nzeta)\n",
    "[thetas_2d,zetas_2d] = np.meshgrid(thetas,zetas)\n",
    "\n",
    "B_booz = np.zeros(np.shape(thetas_2d))\n",
    "for im in range(len(ixn_b)):\n",
    "    angle = ixm_b[im]*thetas_2d - ixn_b[im]*zetas_2d\n",
    "    B_booz += bmnc_b[-1,im]*np.cos(angle)\n",
    "    \n",
    "plt.contourf(zetas,thetas,B_booz.T,50)\n",
    "plt.plot(zetas/4,thetas,color='black')\n",
    "plt.xlabel(r'$\\zeta_B$')\n",
    "plt.ylabel(r'$\\vartheta_B$')\n",
    "plt.legend([r'$\\zeta_B = 4\\vartheta_B$'])\n",
    "plt.title(r'B')"
   ]
  },
  {
   "cell_type": "markdown",
   "metadata": {},
   "source": [
    "We now plot the Fourier harmonics ($B_{m,n}$) as a function of the toroidal flux label. We sort the modes between the constant background, quasiaxisymmetric, mirror, and helical modes. You should find that the helical and background modes have the largest magnitude."
   ]
  },
  {
   "cell_type": "code",
   "execution_count": null,
   "metadata": {},
   "outputs": [],
   "source": [
    "fig = plt.figure()\n",
    "\n",
    "s = (jlist-1.5)/(ns_b-1.0)\n",
    "\n",
    "backgroundColor='b'\n",
    "QAColor=[0,0.7,0]\n",
    "mirrorColor=[0.7,0.5,0]\n",
    "helicalColor=[1,0,1]\n",
    "\n",
    "scale_factor = np.max(np.abs(bmnc_b))\n",
    "\n",
    "# First, plot just the 1st mode of each type, so the legend looks nice.\n",
    "\n",
    "for imode in range(nmodes):\n",
    "    if ixn_b[imode]==0 and ixm_b[imode]==0:\n",
    "        plt.semilogy(s,abs(bmnc_b[:,imode])/scale_factor, color=backgroundColor,label='m = 0, n = 0 (Background)')\n",
    "        break\n",
    "for imode in range(nmodes):\n",
    "    if ixn_b[imode]==0 and ixm_b[imode]!=0:\n",
    "        plt.semilogy(s,abs(bmnc_b[:,imode])/scale_factor, color=QAColor,label=r'm $\\ne$ 0, n = 0 (Quasiaxisymmetric)')\n",
    "        break\n",
    "for imode in range(nmodes):\n",
    "    if ixn_b[imode]!=0 and ixm_b[imode]==0:\n",
    "        plt.semilogy(s,abs(bmnc_b[:,imode])/scale_factor, color=mirrorColor,label=r'm = 0, n $\\ne$ 0 (Mirror)')\n",
    "        break\n",
    "for imode in range(nmodes):\n",
    "    if ixn_b[imode]!=0 and ixm_b[imode]!=0:\n",
    "        plt.semilogy(s,abs(bmnc_b[:,imode])/scale_factor, color=helicalColor,label=r'm $\\ne$ 0, n $\\ne$ 0 (Helical)')\n",
    "        break\n",
    "plt.legend(fontsize=9,loc=2)\n",
    "for imode in range(nmodes):\n",
    "    if np.abs(ixm_b[imode]) > max_m:\n",
    "        continue\n",
    "    if np.abs(ixn_b[imode]) > max_n * nfp_b:\n",
    "        continue\n",
    "    if ixn_b[imode]==0:\n",
    "        if ixm_b[imode]==0:\n",
    "            mycolor = backgroundColor\n",
    "        else:\n",
    "            mycolor = QAColor\n",
    "    else:\n",
    "        if ixm_b[imode]==0:\n",
    "            mycolor = mirrorColor\n",
    "        else:\n",
    "            mycolor = helicalColor\n",
    "    plt.semilogy(s,abs(bmnc_b[:,imode])/scale_factor, color=mycolor)\n",
    "\n",
    "plt.xlabel(r'$\\Psi_T/\\Psi_T^{\\mathrm{edge}}$')\n",
    "plt.title('Fourier harmonics of |B| in Boozer coordinates')\n",
    "plt.ylim([1e-5,1.2])\n",
    "\n",
    "plt.show()"
   ]
  },
  {
   "cell_type": "markdown",
   "metadata": {},
   "source": [
    "To quantify the degree of quasihelical symmetry, we sum over the modes that break the helical symmetry ($m \\ne n/N_P$), dividing by the total magnitude of the mdoes"
   ]
  },
  {
   "cell_type": "code",
   "execution_count": null,
   "metadata": {},
   "outputs": [],
   "source": [
    "QH_metric = np.zeros(len(jlist))\n",
    "for index in range(len(jlist)):\n",
    "    summed_total = 0\n",
    "    summed_nonQH = 0\n",
    "    for imode in range(nmodes):\n",
    "        if ((ixm_b[imode]==ixn_b[imode]/4)==False):\n",
    "            summed_nonQA += bmnc_b[index,imode]**2\n",
    "        summed_total += bmnc_b[index,imode]**2\n",
    "    # Normalize by total\n",
    "    QH_metric[index] = np.sqrt(summed_nonQH/summed_total)\n",
    "    \n",
    "plt.plot(s,QH_metric)\n",
    "plt.xlabel(r'$\\Psi_T/\\Psi_T^{\\mathrm{edge}}$')\n",
    "plt.ylabel('QH metric')"
   ]
  },
  {
   "cell_type": "markdown",
   "metadata": {},
   "source": [
    "Perform the same analysis with the equilibrium generated by the FOCUS coils. How does the degree of quasisymmetry compare?"
   ]
  },
  {
   "cell_type": "markdown",
   "metadata": {},
   "source": [
    "Final questions and activities:\n",
    "- How does the coil complexity of the REGCOIL, FOCUS, and actual coil sets compare?\n",
    "- How well do the coilsets reproduce the desired plasma boundary?\n",
    "- How does the quasisymmetry of the coilsets compare?\n",
    "- Modify the regularization parameters in FOCUS (e.g. K0, curv_alpha, weight_ttlen, weight_curv) and REGCOIL (target_value) to attempt to obtain coil sets with similar coil complexity. How does the normal field error and quasisymetry of these coil sets compare? What can you conclude?\n",
    "- The example FOCUS input used a conjugate gradient method. Play around with another optimization algorithm in FOCUS, such as Levenberg-Marquardt.\n",
    "    - This is performed by setting CG_maxiter = 0 and LM_maxiter to a nonzero value. You can also set the xtol stopping criteria (LM_XTOL), ftol stopping criteria (LM_FTOL), and initial step bound (LM_factor)."
   ]
  }
 ],
 "metadata": {
  "kernelspec": {
   "display_name": "Python 3",
   "language": "python",
   "name": "python3"
  },
  "language_info": {
   "codemirror_mode": {
    "name": "ipython",
    "version": 3
   },
   "file_extension": ".py",
   "mimetype": "text/x-python",
   "name": "python",
   "nbconvert_exporter": "python",
   "pygments_lexer": "ipython3",
   "version": "3.8.3"
  }
 },
 "nbformat": 4,
 "nbformat_minor": 4
}
